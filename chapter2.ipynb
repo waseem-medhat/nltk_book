{
 "cells": [
  {
   "cell_type": "code",
   "execution_count": 1,
   "metadata": {},
   "outputs": [],
   "source": [
    "import nltk\n",
    "from nltk.corpus import gutenberg, brown, inaugural\n",
    "import matplotlib.pyplot as plt\n",
    "\n",
    "plt.rcParams[\"figure.figsize\"] = (15,7)\n",
    "plt.rcParams[\"font.size\"] = 13"
   ]
  },
  {
   "cell_type": "markdown",
   "metadata": {},
   "source": [
    "# 1.1 Gutenberg corpus"
   ]
  },
  {
   "cell_type": "code",
   "execution_count": 2,
   "metadata": {
    "scrolled": true
   },
   "outputs": [
    {
     "data": {
      "text/plain": [
       "['austen-emma.txt',\n",
       " 'austen-persuasion.txt',\n",
       " 'austen-sense.txt',\n",
       " 'bible-kjv.txt',\n",
       " 'blake-poems.txt',\n",
       " 'bryant-stories.txt',\n",
       " 'burgess-busterbrown.txt',\n",
       " 'carroll-alice.txt',\n",
       " 'chesterton-ball.txt',\n",
       " 'chesterton-brown.txt',\n",
       " 'chesterton-thursday.txt',\n",
       " 'edgeworth-parents.txt',\n",
       " 'melville-moby_dick.txt',\n",
       " 'milton-paradise.txt',\n",
       " 'shakespeare-caesar.txt',\n",
       " 'shakespeare-hamlet.txt',\n",
       " 'shakespeare-macbeth.txt',\n",
       " 'whitman-leaves.txt']"
      ]
     },
     "execution_count": 2,
     "metadata": {},
     "output_type": "execute_result"
    }
   ],
   "source": [
    "gutenberg.fileids()"
   ]
  },
  {
   "cell_type": "code",
   "execution_count": 3,
   "metadata": {},
   "outputs": [
    {
     "name": "stdout",
     "output_type": "stream",
     "text": [
      "<class 'nltk.corpus.reader.util.StreamBackedCorpusView'> 192427\n"
     ]
    }
   ],
   "source": [
    "emma = gutenberg.words(\"austen-emma.txt\")\n",
    "print(type(emma), len(emma))"
   ]
  },
  {
   "cell_type": "markdown",
   "metadata": {},
   "source": [
    "Objects read from corpora must be converted to NLTK text class using `nltk.Text(corpus_obj)`"
   ]
  },
  {
   "cell_type": "code",
   "execution_count": 4,
   "metadata": {
    "scrolled": true
   },
   "outputs": [
    {
     "name": "stdout",
     "output_type": "stream",
     "text": [
      "<class 'nltk.text.Text'>\n",
      "Displaying 25 of 37 matches:\n",
      "er father , was sometimes taken by surprize at his being still able to pity ` \n",
      "hem do the other any good .\" \" You surprize me ! Emma must do Harriet good : a\n",
      "Knightley actually looked red with surprize and displeasure , as he stood up ,\n",
      "r . Elton , and found to his great surprize , that Mr . Elton was actually on \n",
      "d aid .\" Emma saw Mrs . Weston ' s surprize , and felt that it must be great ,\n",
      "father was quite taken up with the surprize of so sudden a journey , and his f\n",
      "y , in all the favouring warmth of surprize and conjecture . She was , moreove\n",
      "he appeared , to have her share of surprize , introduction , and pleasure . Th\n",
      "ir plans ; and it was an agreeable surprize to her , therefore , to perceive t\n",
      "talking aunt had taken me quite by surprize , it must have been the death of m\n",
      "f all the dialogue which ensued of surprize , and inquiry , and congratulation\n",
      " the present . They might chuse to surprize her .\" Mrs . Cole had many to agre\n",
      "the mode of it , the mystery , the surprize , is more like a young woman ' s s\n",
      " to her song took her agreeably by surprize -- a second , slightly but correct\n",
      "\" \" Oh ! no -- there is nothing to surprize one at all .-- A pretty fortune ; \n",
      "t to be considered . Emma ' s only surprize was that Jane Fairfax should accep\n",
      "of your admiration may take you by surprize some day or other .\" Mr . Knightle\n",
      "ation for her will ever take me by surprize .-- I never had a thought of her i\n",
      " expected by the best judges , for surprize -- but there was great joy . Mr . \n",
      " sound of at first , without great surprize . \" So unreasonably early !\" she w\n",
      "d Frank Churchill , with a look of surprize and displeasure .-- \" That is easy\n",
      "; and Emma could imagine with what surprize and mortification she must be retu\n",
      "tled that Jane should go . Quite a surprize to me ! I had not the least idea !\n",
      " . It is impossible to express our surprize . He came to speak to his father o\n",
      "g engaged !\" Emma even jumped with surprize ;-- and , horror - struck , exclai\n"
     ]
    }
   ],
   "source": [
    "emma_txt =  nltk.Text(emma)\n",
    "print(type(emma_txt))\n",
    "emma_txt.concordance(\"surprize\")"
   ]
  },
  {
   "cell_type": "markdown",
   "metadata": {},
   "source": [
    "## Print information about Gutenberg corpus"
   ]
  },
  {
   "cell_type": "code",
   "execution_count": 5,
   "metadata": {},
   "outputs": [
    {
     "name": "stdout",
     "output_type": "stream",
     "text": [
      "5 25 26 austen-emma\n",
      "5 26 17 austen-persuasion\n",
      "5 28 22 austen-sense\n",
      "4 34 79 bible-kjv\n",
      "5 19 05 blake-poems\n",
      "4 19 14 bryant-stories\n",
      "4 18 12 burgess-busterbrown\n",
      "4 20 13 carroll-alice\n",
      "5 20 12 chesterton-ball\n",
      "5 23 11 chesterton-brown\n",
      "5 18 11 chesterton-thursday\n",
      "4 21 25 edgeworth-parents\n",
      "5 26 15 melville-moby_dick\n",
      "5 52 11 milton-paradise\n",
      "4 12 09 shakespeare-caesar\n",
      "4 12 08 shakespeare-hamlet\n",
      "4 12 07 shakespeare-macbeth\n",
      "5 36 12 whitman-leaves\n"
     ]
    }
   ],
   "source": [
    "for fileid in gutenberg.fileids():\n",
    "    num_chars = len(gutenberg.raw(fileid))\n",
    "    num_words = len(gutenberg.words(fileid))\n",
    "    num_sents = len(gutenberg.sents(fileid))\n",
    "    num_vocab = len(set([w.lower() for w in gutenberg.words(fileid)]))\n",
    "    print(\n",
    "        round(num_chars / num_words),\n",
    "        str(round(num_words / num_sents)).zfill(2),\n",
    "        str(round(num_words / num_vocab)).zfill(2),\n",
    "        fileid[:-4]\n",
    "    )"
   ]
  },
  {
   "cell_type": "markdown",
   "metadata": {},
   "source": [
    "# 1.2 Web and chat text "
   ]
  },
  {
   "cell_type": "code",
   "execution_count": 6,
   "metadata": {},
   "outputs": [
    {
     "data": {
      "text/plain": [
       "['firefox.txt',\n",
       " 'grail.txt',\n",
       " 'overheard.txt',\n",
       " 'pirates.txt',\n",
       " 'singles.txt',\n",
       " 'wine.txt']"
      ]
     },
     "execution_count": 6,
     "metadata": {},
     "output_type": "execute_result"
    }
   ],
   "source": [
    "nltk.corpus.webtext.fileids()"
   ]
  },
  {
   "cell_type": "code",
   "execution_count": 7,
   "metadata": {},
   "outputs": [
    {
     "data": {
      "text/plain": [
       "['10-19-20s_706posts.xml',\n",
       " '10-19-30s_705posts.xml',\n",
       " '10-19-40s_686posts.xml',\n",
       " '10-19-adults_706posts.xml',\n",
       " '10-24-40s_706posts.xml',\n",
       " '10-26-teens_706posts.xml',\n",
       " '11-06-adults_706posts.xml',\n",
       " '11-08-20s_705posts.xml',\n",
       " '11-08-40s_706posts.xml',\n",
       " '11-08-adults_705posts.xml',\n",
       " '11-08-teens_706posts.xml',\n",
       " '11-09-20s_706posts.xml',\n",
       " '11-09-40s_706posts.xml',\n",
       " '11-09-adults_706posts.xml',\n",
       " '11-09-teens_706posts.xml']"
      ]
     },
     "execution_count": 7,
     "metadata": {},
     "output_type": "execute_result"
    }
   ],
   "source": [
    "nltk.corpus.nps_chat.fileids()"
   ]
  },
  {
   "cell_type": "code",
   "execution_count": 8,
   "metadata": {},
   "outputs": [
    {
     "data": {
      "text/plain": [
       "[['now', 'im', 'left', 'with', 'this', 'gay', 'name'], [':P'], ...]"
      ]
     },
     "execution_count": 8,
     "metadata": {},
     "output_type": "execute_result"
    }
   ],
   "source": [
    "nltk.corpus.nps_chat.posts(\"10-19-20s_706posts.xml\")"
   ]
  },
  {
   "cell_type": "markdown",
   "metadata": {},
   "source": [
    "## 1.3 Brown corpus"
   ]
  },
  {
   "cell_type": "code",
   "execution_count": 9,
   "metadata": {},
   "outputs": [
    {
     "data": {
      "text/plain": [
       "['adventure',\n",
       " 'belles_lettres',\n",
       " 'editorial',\n",
       " 'fiction',\n",
       " 'government',\n",
       " 'hobbies',\n",
       " 'humor',\n",
       " 'learned',\n",
       " 'lore',\n",
       " 'mystery',\n",
       " 'news',\n",
       " 'religion',\n",
       " 'reviews',\n",
       " 'romance',\n",
       " 'science_fiction']"
      ]
     },
     "execution_count": 9,
     "metadata": {},
     "output_type": "execute_result"
    }
   ],
   "source": [
    "brown.categories()"
   ]
  },
  {
   "cell_type": "code",
   "execution_count": 10,
   "metadata": {},
   "outputs": [
    {
     "data": {
      "text/plain": [
       "['Now', 'that', 'he', 'knew', 'himself', 'to', 'be', ...]"
      ]
     },
     "execution_count": 10,
     "metadata": {},
     "output_type": "execute_result"
    }
   ],
   "source": [
    "brown.words(fileids=\"cm01\")"
   ]
  },
  {
   "cell_type": "markdown",
   "metadata": {},
   "source": [
    "## Stylistics: comparing modal verbs in different genres"
   ]
  },
  {
   "cell_type": "code",
   "execution_count": 11,
   "metadata": {},
   "outputs": [
    {
     "name": "stdout",
     "output_type": "stream",
     "text": [
      "  can:  94\n",
      "could:  87\n",
      "  may:  93\n",
      "might:  38\n",
      " must:  53\n",
      " will: 389\n"
     ]
    }
   ],
   "source": [
    "news_txt = brown.words(categories=\"news\")\n",
    "fdist_news = nltk.FreqDist([w.lower() for w in news_txt])\n",
    "modals = \"can could may might must will\".split()\n",
    "\n",
    "for m in modals:\n",
    "    print(m.rjust(5) + \": \" + str(fdist_news[m]).rjust(3))"
   ]
  },
  {
   "cell_type": "code",
   "execution_count": 12,
   "metadata": {},
   "outputs": [
    {
     "name": "stdout",
     "output_type": "stream",
     "text": [
      " what:  86\n",
      " when:  68\n",
      "where:  21\n",
      "  who: 102\n",
      "  why:  20\n"
     ]
    }
   ],
   "source": [
    "religion_txt = brown.words(categories=\"religion\")\n",
    "fdist_religion = nltk.FreqDist([w.lower() for w in religion_txt])\n",
    "wh_words = \"what when where who why\".split()\n",
    "\n",
    "for m in wh_words:\n",
    "    print(m.rjust(5) + \": \" + str(fdist_religion[m]).rjust(3))"
   ]
  },
  {
   "cell_type": "markdown",
   "metadata": {},
   "source": [
    "## Conditional frequency distribution\n",
    "\n",
    "(This is just a demonstration example; see 2.x below for more details)"
   ]
  },
  {
   "cell_type": "code",
   "execution_count": 13,
   "metadata": {},
   "outputs": [],
   "source": [
    "cfd = nltk.ConditionalFreqDist(\n",
    "    (genre, word)\n",
    "    for genre in brown.categories()\n",
    "    for word in brown.words(categories=genre)\n",
    ")"
   ]
  },
  {
   "cell_type": "code",
   "execution_count": 14,
   "metadata": {
    "scrolled": false
   },
   "outputs": [
    {
     "name": "stdout",
     "output_type": "stream",
     "text": [
      "           can could   may might  must  will \n",
      "    news    93    86    66    38    50   389 \n",
      "religion    82    59    78    12    54    71 \n"
     ]
    }
   ],
   "source": [
    "categories = ['news', 'religion']\n",
    "cfd.tabulate(conditions = categories, samples = modals)"
   ]
  },
  {
   "cell_type": "markdown",
   "metadata": {},
   "source": [
    "# 1.5 Inaugural address corpus"
   ]
  },
  {
   "cell_type": "code",
   "execution_count": 15,
   "metadata": {
    "scrolled": false
   },
   "outputs": [
    {
     "data": {
      "image/png": "[encoded data removed]",
      "text/plain": [
       "<Figure size 1080x504 with 1 Axes>"
      ]
     },
     "metadata": {
      "needs_background": "light"
     },
     "output_type": "display_data"
    },
    {
     "data": {
      "text/plain": [
       "<AxesSubplot:xlabel='Samples', ylabel='Counts'>"
      ]
     },
     "execution_count": 15,
     "metadata": {},
     "output_type": "execute_result"
    }
   ],
   "source": [
    "cfd_iac = nltk.ConditionalFreqDist(\n",
    "    (target, fileid[:4])\n",
    "    for fileid in inaugural.fileids()\n",
    "    for w in inaugural.words(fileid)\n",
    "    for target in ['america', 'citizen']\n",
    "    if w.lower().startswith(target)\n",
    ")\n",
    "\n",
    "cfd_iac.plot()"
   ]
  },
  {
   "cell_type": "markdown",
   "metadata": {},
   "source": [
    "# 1.8 Text corpus structure\n",
    "\n",
    "## Basic corpus functionality"
   ]
  },
  {
   "cell_type": "code",
   "execution_count": 16,
   "metadata": {},
   "outputs": [
    {
     "data": {
      "text/plain": [
       "'[The '"
      ]
     },
     "execution_count": 16,
     "metadata": {},
     "output_type": "execute_result"
    }
   ],
   "source": [
    "gutenberg.raw(\"burgess-busterbrown.txt\")[:5]"
   ]
  },
  {
   "cell_type": "code",
   "execution_count": 17,
   "metadata": {},
   "outputs": [
    {
     "data": {
      "text/plain": [
       "['[', 'The', 'Adventures', 'of', 'Buster']"
      ]
     },
     "execution_count": 17,
     "metadata": {},
     "output_type": "execute_result"
    }
   ],
   "source": [
    "gutenberg.words(\"burgess-busterbrown.txt\")[:5]"
   ]
  },
  {
   "cell_type": "code",
   "execution_count": 18,
   "metadata": {
    "scrolled": true
   },
   "outputs": [
    {
     "data": {
      "text/plain": [
       "[['[',\n",
       "  'The',\n",
       "  'Adventures',\n",
       "  'of',\n",
       "  'Buster',\n",
       "  'Bear',\n",
       "  'by',\n",
       "  'Thornton',\n",
       "  'W',\n",
       "  '.',\n",
       "  'Burgess',\n",
       "  '1920',\n",
       "  ']'],\n",
       " ['I'],\n",
       " ['BUSTER', 'BEAR', 'GOES', 'FISHING'],\n",
       " ['Buster',\n",
       "  'Bear',\n",
       "  'yawned',\n",
       "  'as',\n",
       "  'he',\n",
       "  'lay',\n",
       "  'on',\n",
       "  'his',\n",
       "  'comfortable',\n",
       "  'bed',\n",
       "  'of',\n",
       "  'leaves',\n",
       "  'and',\n",
       "  'watched',\n",
       "  'the',\n",
       "  'first',\n",
       "  'early',\n",
       "  'morning',\n",
       "  'sunbeams',\n",
       "  'creeping',\n",
       "  'through',\n",
       "  'the',\n",
       "  'Green',\n",
       "  'Forest',\n",
       "  'to',\n",
       "  'chase',\n",
       "  'out',\n",
       "  'the',\n",
       "  'Black',\n",
       "  'Shadows',\n",
       "  '.'],\n",
       " ['Once',\n",
       "  'more',\n",
       "  'he',\n",
       "  'yawned',\n",
       "  ',',\n",
       "  'and',\n",
       "  'slowly',\n",
       "  'got',\n",
       "  'to',\n",
       "  'his',\n",
       "  'feet',\n",
       "  'and',\n",
       "  'shook',\n",
       "  'himself',\n",
       "  '.']]"
      ]
     },
     "execution_count": 18,
     "metadata": {},
     "output_type": "execute_result"
    }
   ],
   "source": [
    "gutenberg.sents(\"burgess-busterbrown.txt\")[:5]"
   ]
  },
  {
   "cell_type": "markdown",
   "metadata": {},
   "source": [
    "# 1.9 Loading your own corpus"
   ]
  },
  {
   "cell_type": "markdown",
   "metadata": {},
   "source": [
    "`nltk.corpus.PlaintextCorpusReader()` takes two arguments:\n",
    "1. corpus directory\n",
    "2. regex of file name(s)"
   ]
  },
  {
   "cell_type": "code",
   "execution_count": 19,
   "metadata": {},
   "outputs": [
    {
     "data": {
      "text/plain": [
       "['will', 'this', 'read', 'correctly', '?']"
      ]
     },
     "execution_count": 19,
     "metadata": {},
     "output_type": "execute_result"
    }
   ],
   "source": [
    "nltk.corpus.PlaintextCorpusReader(\"./\", \"sample.txt\").words()"
   ]
  },
  {
   "cell_type": "code",
   "execution_count": 20,
   "metadata": {},
   "outputs": [],
   "source": [
    "?nltk.corpus.BracketParseCorpusReader"
   ]
  },
  {
   "cell_type": "markdown",
   "metadata": {},
   "source": [
    "# 2.1 Conditions and events\n",
    "\n",
    "To make conditional frequency distributions, you need to process a sequence of pairs, where each pair is a two-tuple of **condition** and **event**.\n",
    "\n",
    "- **Condition** is the grouping factor (e.g. genre: `[\"news\", \"romance\"]`).\n",
    "- **Event** is the word (which will be counted within each condition)"
   ]
  },
  {
   "cell_type": "markdown",
   "metadata": {},
   "source": [
    "# 2.2 Counting words by genre\n",
    "\n",
    "`nltk.ConditionalFreqDist()` has only one argument: a list of condition-event pairs (tuples)...\n",
    "\n",
    "```python\n",
    "[(cond1, ev1), (cond1, ev2), ...]\n",
    "```\n",
    "\n",
    "This is typically produced using a list comprehension.\n",
    "```python\n",
    "[\n",
    "    (cond, event)\n",
    "     for cond in list_of_conds \n",
    "     for event in list_of_events # (within each cond)\n",
    "]\n",
    " \n",
    "```\n",
    "\n",
    "(The next example is the same as the one shown earlier.)"
   ]
  },
  {
   "cell_type": "code",
   "execution_count": 21,
   "metadata": {},
   "outputs": [],
   "source": [
    "# square brackets are optional here\n",
    "cfd = nltk.ConditionalFreqDist(\n",
    "    (genre, word) \n",
    "    for genre in ['news', 'romance']\n",
    "    for word in brown.words(categories=genre)\n",
    ")"
   ]
  },
  {
   "cell_type": "code",
   "execution_count": 22,
   "metadata": {},
   "outputs": [
    {
     "data": {
      "text/plain": [
       "[(',', 3899),\n",
       " ('.', 3736),\n",
       " ('the', 2758),\n",
       " ('and', 1776),\n",
       " ('to', 1502),\n",
       " ('a', 1335),\n",
       " ('of', 1186),\n",
       " ('``', 1045),\n",
       " (\"''\", 1044),\n",
       " ('was', 993)]"
      ]
     },
     "execution_count": 22,
     "metadata": {},
     "output_type": "execute_result"
    }
   ],
   "source": [
    "cfd['romance'].most_common(10)"
   ]
  },
  {
   "cell_type": "markdown",
   "metadata": {},
   "source": [
    "## CFD of inaugural address corpus\n",
    "\n",
    "\"This code generates the pair ('america', '1865') for every instance of a word whose lowercased form starts with america — such as Americans — in the file 1865-Lincoln.txt\""
   ]
  },
  {
   "cell_type": "code",
   "execution_count": 23,
   "metadata": {},
   "outputs": [],
   "source": [
    "cfd_i = nltk.ConditionalFreqDist(\n",
    "    (w, i[:4])\n",
    "     for i in inaugural.fileids()\n",
    "     for w in inaugural.words(fileids=i)\n",
    "     for cond in ['america', 'citizen']\n",
    "     if w.lower().startswith(cond)\n",
    ")"
   ]
  },
  {
   "cell_type": "code",
   "execution_count": 24,
   "metadata": {},
   "outputs": [
    {
     "name": "stdout",
     "output_type": "stream",
     "text": [
      "            2017 \n",
      "    America   20 \n",
      "   American   11 \n",
      "Americanism    0 \n",
      "  Americans    4 \n",
      "  Americanâ    0 \n",
      "   Americas    0 \n",
      "   Citizens    0 \n",
      "    citizen    0 \n",
      "  citizenry    0 \n",
      "   citizens    4 \n",
      "citizenship    0 \n"
     ]
    }
   ],
   "source": [
    "cfd_i.tabulate(\n",
    "    samples = [\"2017\"]\n",
    ")"
   ]
  },
  {
   "cell_type": "code",
   "execution_count": 25,
   "metadata": {
    "scrolled": false
   },
   "outputs": [
    {
     "data": {
      "image/png": "[encoded data removed]",
      "text/plain": [
       "<Figure size 1080x504 with 1 Axes>"
      ]
     },
     "metadata": {
      "needs_background": "light"
     },
     "output_type": "display_data"
    },
    {
     "data": {
      "text/plain": [
       "<AxesSubplot:xlabel='Samples', ylabel='Counts'>"
      ]
     },
     "execution_count": 25,
     "metadata": {},
     "output_type": "execute_result"
    }
   ],
   "source": [
    "cfd_i.plot(\n",
    "    conditions = [\"citizenship\", \"America\"]\n",
    ")"
   ]
  },
  {
   "cell_type": "markdown",
   "metadata": {},
   "source": [
    "## CFD of Brown corpus\n",
    "\n",
    "Working with the **news** and **romance** genres from the Brown Corpus, find out which **days of the week** are most newsworthy, and which are most romantic. Define a variable called days containing a list of days of the week, i.e. ['Monday', ...]. Now tabulate the counts for these words using cfd.tabulate(samples=days). Now try the same thing using plot in place of tabulate. You may control the output order of days with the help of an extra parameter: samples=['Monday', ...]."
   ]
  },
  {
   "cell_type": "code",
   "execution_count": 26,
   "metadata": {},
   "outputs": [
    {
     "name": "stdout",
     "output_type": "stream",
     "text": [
      "           Friday    Monday  Saturday    Sunday  Thursday   Tuesday Wednesday \n",
      "   news        41        54        33        51        20        43        22 \n",
      "romance         3         2         4         5         1         3         3 \n"
     ]
    },
    {
     "data": {
      "image/png": "[encoded data removed]",
      "text/plain": [
       "<Figure size 1080x504 with 1 Axes>"
      ]
     },
     "metadata": {
      "needs_background": "light"
     },
     "output_type": "display_data"
    },
    {
     "data": {
      "image/png": "[encoded data removed]",
      "text/plain": [
       "<Figure size 1080x504 with 1 Axes>"
      ]
     },
     "metadata": {
      "needs_background": "light"
     },
     "output_type": "display_data"
    },
    {
     "data": {
      "text/plain": [
       "<AxesSubplot:xlabel='Samples', ylabel='Counts'>"
      ]
     },
     "execution_count": 26,
     "metadata": {},
     "output_type": "execute_result"
    }
   ],
   "source": [
    "genres = [\"news\", \"romance\"]\n",
    "wkdays = \"Monday Tuesday Wednesday Thursday Friday Saturday Sunday\" \\\n",
    "    .split()\n",
    "cfd_wkday = nltk.ConditionalFreqDist(\n",
    "    (genre, word)\n",
    "    for genre in genres\n",
    "    for word  in brown.words(categories=genre)\n",
    "    for wkday in wkdays\n",
    "    if word == wkday\n",
    ")\n",
    "cfd_wkday.tabulate()\n",
    "cfd_wkday.plot(samples = wkdays, conditions = [\"news\"])\n",
    "cfd_wkday.plot(samples = wkdays, conditions = [\"romance\"])"
   ]
  },
  {
   "cell_type": "markdown",
   "metadata": {},
   "source": [
    "# 2.4 Generating Random Text with Bigrams"
   ]
  },
  {
   "cell_type": "code",
   "execution_count": 27,
   "metadata": {},
   "outputs": [
    {
     "name": "stdout",
     "output_type": "stream",
     "text": [
      "a man , and the world . The new members of the world . The new members of the world . The new members of the world . The new members of the world . The new members of the world . The new members of the world . The new members of the world . The new members of the world . The new members of the world . The new members of the world . The new members "
     ]
    }
   ],
   "source": [
    "bigrams = nltk.bigrams(brown.words(categories=\"religion\"))\n",
    "cfd_bgr = nltk.ConditionalFreqDist(bigrams)\n",
    "\n",
    "def generate_model(cfdist, word, num=15):\n",
    "    for i in range(num):\n",
    "        print(word, end=\" \")\n",
    "        word = cfdist[word].max()\n",
    "\n",
    "generate_model(cfd_bgr, \"a\", 80)"
   ]
  },
  {
   "cell_type": "markdown",
   "metadata": {},
   "source": [
    "# 4.1 Wordlist corpora"
   ]
  },
  {
   "cell_type": "code",
   "execution_count": 28,
   "metadata": {
    "scrolled": true
   },
   "outputs": [
    {
     "data": {
      "text/plain": [
       "['aa',\n",
       " 'aal',\n",
       " 'aalii',\n",
       " 'aam',\n",
       " 'aani',\n",
       " 'aardwolf',\n",
       " 'aaronic',\n",
       " 'aaronical',\n",
       " 'aaronite',\n",
       " 'aaronitic',\n",
       " 'aaru',\n",
       " 'ab',\n",
       " 'aba',\n",
       " 'ababdeh',\n",
       " 'ababua',\n",
       " 'abac',\n",
       " 'abaca',\n",
       " 'abacate',\n",
       " 'abacay',\n",
       " 'abacinate',\n",
       " 'abacination',\n",
       " 'abaciscus',\n",
       " 'abacist',\n",
       " 'abactinal',\n",
       " 'abactinally',\n",
       " 'abaction',\n",
       " 'abactor',\n",
       " 'abaculus',\n",
       " 'abadite',\n",
       " 'abaff',\n",
       " 'abaisance',\n",
       " 'abaiser',\n",
       " 'abaissed',\n",
       " 'abalienate',\n",
       " 'abalienation',\n",
       " 'abama',\n",
       " 'abampere',\n",
       " 'abandonable',\n",
       " 'abandonedly',\n",
       " 'abandonee',\n",
       " 'abandoner',\n",
       " 'abanic',\n",
       " 'abantes',\n",
       " 'abaptiston',\n",
       " 'abarambo',\n",
       " 'abaris',\n",
       " 'abarthrosis',\n",
       " 'abarticular',\n",
       " 'abarticulation',\n",
       " 'abas',\n",
       " 'abasedly',\n",
       " 'abasedness',\n",
       " 'abaser',\n",
       " 'abasgi',\n",
       " 'abashedly',\n",
       " 'abashedness',\n",
       " 'abashless',\n",
       " 'abashlessly',\n",
       " 'abashment',\n",
       " 'abasia',\n",
       " 'abasic',\n",
       " 'abask',\n",
       " 'abassin',\n",
       " 'abastardize',\n",
       " 'abatable',\n",
       " 'abater',\n",
       " 'abatis',\n",
       " 'abatised',\n",
       " 'abaton',\n",
       " 'abator',\n",
       " 'abatua',\n",
       " 'abature',\n",
       " 'abave',\n",
       " 'abaxial',\n",
       " 'abaxile',\n",
       " 'abaze',\n",
       " 'abb',\n",
       " 'abba',\n",
       " 'abbacomes',\n",
       " 'abbacy',\n",
       " 'abbadide',\n",
       " 'abbasi',\n",
       " 'abbassi',\n",
       " 'abbasside',\n",
       " 'abbatial',\n",
       " 'abbatical',\n",
       " 'abbeystede',\n",
       " 'abbie',\n",
       " 'abbotcy',\n",
       " 'abbotnullius',\n",
       " 'abbotship',\n",
       " 'abbreviately',\n",
       " 'abbreviator',\n",
       " 'abbreviatory',\n",
       " 'abbreviature',\n",
       " 'abcoulomb',\n",
       " 'abdal',\n",
       " 'abdat',\n",
       " 'abderian',\n",
       " 'abderite',\n",
       " 'abdest',\n",
       " 'abdicable',\n",
       " 'abdicant',\n",
       " 'abdicative',\n",
       " 'abdicator',\n",
       " 'abdiel',\n",
       " 'abditive',\n",
       " 'abditory',\n",
       " 'abdominales',\n",
       " 'abdominalian',\n",
       " 'abdominally',\n",
       " 'abdominoanterior',\n",
       " 'abdominocardiac',\n",
       " 'abdominocentesis',\n",
       " 'abdominocystic',\n",
       " 'abdominogenital',\n",
       " 'abdominohysterectomy',\n",
       " 'abdominohysterotomy',\n",
       " 'abdominoposterior',\n",
       " 'abdominoscope',\n",
       " 'abdominoscopy',\n",
       " 'abdominothoracic',\n",
       " 'abdominous',\n",
       " 'abdominovaginal',\n",
       " 'abdominovesical',\n",
       " 'abduce',\n",
       " 'abducens',\n",
       " 'abducent',\n",
       " 'abear',\n",
       " 'abearance',\n",
       " 'abecedarian',\n",
       " 'abecedarium',\n",
       " 'abecedary',\n",
       " 'abeigh',\n",
       " 'abele',\n",
       " 'abelia',\n",
       " 'abelian',\n",
       " 'abelicea',\n",
       " 'abelite',\n",
       " 'abelmoschus',\n",
       " 'abelmosk',\n",
       " 'abelonian',\n",
       " 'abeltree',\n",
       " 'abencerrages',\n",
       " 'abenteric',\n",
       " 'abepithymia',\n",
       " 'aberdevine',\n",
       " 'aberdonian',\n",
       " 'aberia',\n",
       " 'aberrance',\n",
       " 'aberrancy',\n",
       " 'aberrate',\n",
       " 'aberrational',\n",
       " 'aberrator',\n",
       " 'aberrometer',\n",
       " 'aberroscope',\n",
       " 'aberuncator',\n",
       " 'abetment',\n",
       " 'abettal',\n",
       " 'abevacuation',\n",
       " 'abey',\n",
       " 'abeyancy',\n",
       " 'abeyant',\n",
       " 'abfarad',\n",
       " 'abhenry',\n",
       " 'abhiseka',\n",
       " 'abhominable',\n",
       " 'abhorrency',\n",
       " 'abhorrently',\n",
       " 'abhorrer',\n",
       " 'abhorrible',\n",
       " 'abhorson',\n",
       " 'abidal',\n",
       " 'abidance',\n",
       " 'abider',\n",
       " 'abidi',\n",
       " 'abidingly',\n",
       " 'abidingness',\n",
       " 'abie',\n",
       " 'abies',\n",
       " 'abietate',\n",
       " 'abietene',\n",
       " 'abietic',\n",
       " 'abietin',\n",
       " 'abietineae',\n",
       " 'abietineous',\n",
       " 'abietinic',\n",
       " 'abiezer',\n",
       " 'abigailship',\n",
       " 'abigeat',\n",
       " 'abigeus',\n",
       " 'abilao',\n",
       " 'abilla',\n",
       " 'abilo',\n",
       " 'abintestate',\n",
       " 'abiogenesis',\n",
       " 'abiogenesist',\n",
       " 'abiogenetic',\n",
       " 'abiogenetical',\n",
       " 'abiogenetically',\n",
       " 'abiogenist',\n",
       " 'abiogenous',\n",
       " 'abiogeny',\n",
       " 'abiological',\n",
       " 'abiologically',\n",
       " 'abiology',\n",
       " 'abiosis',\n",
       " 'abiotic',\n",
       " 'abiotrophic',\n",
       " 'abiotrophy',\n",
       " 'abipon',\n",
       " 'abir',\n",
       " 'abirritant',\n",
       " 'abirritate',\n",
       " 'abirritation',\n",
       " 'abirritative',\n",
       " 'abiston',\n",
       " 'abitibi',\n",
       " 'abiuret',\n",
       " 'abjectedness',\n",
       " 'abjection',\n",
       " 'abjective',\n",
       " 'abjectness',\n",
       " 'abjoint',\n",
       " 'abjudge',\n",
       " 'abjudicate',\n",
       " 'abjudication',\n",
       " 'abjunction',\n",
       " 'abjunctive',\n",
       " 'abjuratory',\n",
       " 'abjurement',\n",
       " 'abjurer',\n",
       " 'abkar',\n",
       " 'abkari',\n",
       " 'abkhas',\n",
       " 'abkhasian',\n",
       " 'ablach',\n",
       " 'ablactate',\n",
       " 'ablactation',\n",
       " 'ablare',\n",
       " 'ablastemic',\n",
       " 'ablastous',\n",
       " 'ablate',\n",
       " 'ablation',\n",
       " 'ablatitious',\n",
       " 'ablatival',\n",
       " 'ablator',\n",
       " 'ablaut',\n",
       " 'ableeze',\n",
       " 'ablegate',\n",
       " 'ableness',\n",
       " 'ablepharia',\n",
       " 'ablepharon',\n",
       " 'ablepharous',\n",
       " 'ablepharus',\n",
       " 'ablepsia',\n",
       " 'ableptical',\n",
       " 'ableptically',\n",
       " 'ablewhackets',\n",
       " 'ablins',\n",
       " 'ablow',\n",
       " 'ablude',\n",
       " 'abluent',\n",
       " 'ablush',\n",
       " 'ablutionary',\n",
       " 'abluvion',\n",
       " 'abmho',\n",
       " 'abnaki',\n",
       " 'abnegative',\n",
       " 'abnegator',\n",
       " 'abnerval',\n",
       " 'abnet',\n",
       " 'abneural',\n",
       " 'abnormalism',\n",
       " 'abnormalist',\n",
       " 'abnormalize',\n",
       " 'abnormalness',\n",
       " 'abnormity',\n",
       " 'abnormous',\n",
       " 'abnumerable',\n",
       " 'abo',\n",
       " 'abobra',\n",
       " 'abodement',\n",
       " 'abody',\n",
       " 'abohm',\n",
       " 'aboil',\n",
       " 'abolisher',\n",
       " 'abolishment',\n",
       " 'abolitionary',\n",
       " 'abolitionism',\n",
       " 'abolitionize',\n",
       " 'abolla',\n",
       " 'aboma',\n",
       " 'abomasum',\n",
       " 'abomasus',\n",
       " 'abominableness',\n",
       " 'abominator',\n",
       " 'abomine',\n",
       " 'abongo',\n",
       " 'aboon',\n",
       " 'aborad',\n",
       " 'aboral',\n",
       " 'aborally',\n",
       " 'abord',\n",
       " 'aboriginality',\n",
       " 'aboriginally',\n",
       " 'aboriginary',\n",
       " 'aborticide',\n",
       " 'abortient',\n",
       " 'abortifacient',\n",
       " 'abortin',\n",
       " 'abortional',\n",
       " 'abortively',\n",
       " 'abortiveness',\n",
       " 'abortus',\n",
       " 'abouchement',\n",
       " 'abounder',\n",
       " 'aboundingly',\n",
       " 'abouts',\n",
       " 'abovedeck',\n",
       " 'aboveground',\n",
       " 'aboveproof',\n",
       " 'abovestairs',\n",
       " 'abox',\n",
       " 'abrachia',\n",
       " 'abradant',\n",
       " 'abrader',\n",
       " 'abrahamic',\n",
       " 'abrahamidae',\n",
       " 'abrahamite',\n",
       " 'abrahamitic',\n",
       " 'abraid',\n",
       " 'abramis',\n",
       " 'abranchial',\n",
       " 'abranchialism',\n",
       " 'abranchian',\n",
       " 'abranchiata',\n",
       " 'abranchiate',\n",
       " 'abranchious',\n",
       " 'abrasax',\n",
       " 'abrase',\n",
       " 'abrash',\n",
       " 'abrasiometer',\n",
       " 'abrastol',\n",
       " 'abraum',\n",
       " 'abraxas',\n",
       " 'abreact',\n",
       " 'abreaction',\n",
       " 'abrenounce',\n",
       " 'abret',\n",
       " 'abrico',\n",
       " 'abridgeable',\n",
       " 'abridgedly',\n",
       " 'abridger',\n",
       " 'abrim',\n",
       " 'abrin',\n",
       " 'abristle',\n",
       " 'abroach',\n",
       " 'abrocoma',\n",
       " 'abrocome',\n",
       " 'abrogable',\n",
       " 'abrogative',\n",
       " 'abrogator',\n",
       " 'abroma',\n",
       " 'abronia',\n",
       " 'abrook',\n",
       " 'abrotanum',\n",
       " 'abrotine',\n",
       " 'abruptedly',\n",
       " 'abruption',\n",
       " 'abrus',\n",
       " 'absampere',\n",
       " 'absaroka',\n",
       " 'absarokite',\n",
       " 'abscession',\n",
       " 'abscessroot',\n",
       " 'abscind',\n",
       " 'abscise',\n",
       " 'abscision',\n",
       " 'absciss',\n",
       " 'abscisse',\n",
       " 'abscission',\n",
       " 'absconce',\n",
       " 'abscondedly',\n",
       " 'abscondence',\n",
       " 'absconder',\n",
       " 'absconsa',\n",
       " 'abscoulomb',\n",
       " 'absentation',\n",
       " 'absenteeship',\n",
       " 'absenter',\n",
       " 'absentment',\n",
       " 'absentmindedly',\n",
       " 'absentness',\n",
       " 'absfarad',\n",
       " 'abshenry',\n",
       " 'absi',\n",
       " 'absinthial',\n",
       " 'absinthian',\n",
       " 'absinthiate',\n",
       " 'absinthic',\n",
       " 'absinthin',\n",
       " 'absinthine',\n",
       " 'absinthism',\n",
       " 'absinthismic',\n",
       " 'absinthium',\n",
       " 'absinthol',\n",
       " 'absit',\n",
       " 'absmho',\n",
       " 'absohm',\n",
       " 'absoluteness',\n",
       " 'absolutist',\n",
       " 'absolutistic',\n",
       " 'absolutistically',\n",
       " 'absolutive',\n",
       " 'absolutization',\n",
       " 'absolutize',\n",
       " 'absolutory',\n",
       " 'absolvable',\n",
       " 'absolvatory',\n",
       " 'absolvent',\n",
       " 'absolver',\n",
       " 'absolvitor',\n",
       " 'absolvitory',\n",
       " 'absonant',\n",
       " 'absonous',\n",
       " 'absorbability',\n",
       " 'absorbable',\n",
       " 'absorbedly',\n",
       " 'absorbedness',\n",
       " 'absorbefacient',\n",
       " 'absorber',\n",
       " 'absorbingly',\n",
       " 'absorbition',\n",
       " 'absorpt',\n",
       " 'absorptance',\n",
       " 'absorptiometer',\n",
       " 'absorptiometric',\n",
       " 'absorptive',\n",
       " 'absorptively',\n",
       " 'absorptiveness',\n",
       " 'absorptivity',\n",
       " 'absquatulate',\n",
       " 'abstainment',\n",
       " 'abstemiously',\n",
       " 'abstemiousness',\n",
       " 'abstentionist',\n",
       " 'abstentious',\n",
       " 'absterge',\n",
       " 'abstergent',\n",
       " 'abstersion',\n",
       " 'abstersive',\n",
       " 'abstersiveness',\n",
       " 'abstinency',\n",
       " 'abstinential',\n",
       " 'abstinently',\n",
       " 'abstractedness',\n",
       " 'abstracter',\n",
       " 'abstractional',\n",
       " 'abstractionism',\n",
       " 'abstractionist',\n",
       " 'abstractitious',\n",
       " 'abstractive',\n",
       " 'abstractively',\n",
       " 'abstractiveness',\n",
       " 'abstractor',\n",
       " 'abstrahent',\n",
       " 'abstricted',\n",
       " 'abstriction',\n",
       " 'abstrusion',\n",
       " 'abstrusity',\n",
       " 'absume',\n",
       " 'absumption',\n",
       " 'absurdness',\n",
       " 'absvolt',\n",
       " 'absyrtus',\n",
       " 'abterminal',\n",
       " 'abthain',\n",
       " 'abthainrie',\n",
       " 'abthainry',\n",
       " 'abthanage',\n",
       " 'abu',\n",
       " 'abucco',\n",
       " 'abulia',\n",
       " 'abulic',\n",
       " 'abulomania',\n",
       " 'abuna',\n",
       " 'abundancy',\n",
       " 'abundantia',\n",
       " 'abura',\n",
       " 'aburabozu',\n",
       " 'aburban',\n",
       " 'aburst',\n",
       " 'aburton',\n",
       " 'abusable',\n",
       " 'abusedly',\n",
       " 'abusee',\n",
       " 'abuseful',\n",
       " 'abusefully',\n",
       " 'abusefulness',\n",
       " 'abusion',\n",
       " 'abusious',\n",
       " 'abuta',\n",
       " 'abutilon',\n",
       " 'abuttal',\n",
       " 'abutter',\n",
       " 'abvolt',\n",
       " 'abwab',\n",
       " 'aby',\n",
       " 'abysm',\n",
       " 'abyssal',\n",
       " 'abyssobenthonic',\n",
       " 'abyssolith',\n",
       " 'abyssopelagic',\n",
       " 'acacatechin',\n",
       " 'acacatechol',\n",
       " 'acacetin',\n",
       " 'acacian',\n",
       " 'acaciin',\n",
       " 'acacin',\n",
       " 'academe',\n",
       " 'academial',\n",
       " 'academian',\n",
       " 'academicals',\n",
       " 'academicism',\n",
       " 'academism',\n",
       " 'academist',\n",
       " 'academite',\n",
       " 'academization',\n",
       " 'academize',\n",
       " 'academus',\n",
       " 'acadialite',\n",
       " 'acadian',\n",
       " 'acadie',\n",
       " 'acaena',\n",
       " 'acajou',\n",
       " 'acaleph',\n",
       " 'acalepha',\n",
       " 'acalephae',\n",
       " 'acalephan',\n",
       " 'acalephoid',\n",
       " 'acalycal',\n",
       " 'acalycine',\n",
       " 'acalycinous',\n",
       " 'acalyculate',\n",
       " 'acalypha',\n",
       " 'acalypterae',\n",
       " 'acalyptrata',\n",
       " 'acalyptratae',\n",
       " 'acalyptrate',\n",
       " 'acamar',\n",
       " 'acampsia',\n",
       " 'acana',\n",
       " 'acanaceous',\n",
       " 'acanonical',\n",
       " 'acanth',\n",
       " 'acantha',\n",
       " 'acanthaceae',\n",
       " 'acanthaceous',\n",
       " 'acanthad',\n",
       " 'acantharia',\n",
       " 'acanthia',\n",
       " 'acanthial',\n",
       " 'acanthin',\n",
       " 'acanthine',\n",
       " 'acanthion',\n",
       " 'acanthite',\n",
       " 'acanthocarpous',\n",
       " 'acanthocephala',\n",
       " 'acanthocephalan',\n",
       " 'acanthocephali',\n",
       " 'acanthocephalous',\n",
       " 'acanthocereus',\n",
       " 'acanthocladous',\n",
       " 'acanthodea',\n",
       " 'acanthodean',\n",
       " 'acanthodei',\n",
       " 'acanthodes',\n",
       " 'acanthodian',\n",
       " 'acanthodidae',\n",
       " 'acanthodii',\n",
       " 'acanthodini',\n",
       " 'acanthoid',\n",
       " 'acantholimon',\n",
       " 'acanthological',\n",
       " 'acanthology',\n",
       " 'acantholysis',\n",
       " 'acanthoma',\n",
       " 'acanthomeridae',\n",
       " 'acanthon',\n",
       " 'acanthopanax',\n",
       " 'acanthophis',\n",
       " 'acanthophorous',\n",
       " 'acanthopod',\n",
       " 'acanthopodous',\n",
       " 'acanthopomatous',\n",
       " 'acanthopore',\n",
       " 'acanthopteran',\n",
       " 'acanthopteri',\n",
       " 'acanthopterous',\n",
       " 'acanthopterygian',\n",
       " 'acanthopterygii',\n",
       " 'acanthosis',\n",
       " 'acanthous',\n",
       " 'acanthuridae',\n",
       " 'acanthurus',\n",
       " 'acapnia',\n",
       " 'acapnial',\n",
       " 'acapsular',\n",
       " 'acapu',\n",
       " 'acara',\n",
       " 'acarapis',\n",
       " 'acardia',\n",
       " 'acardiac',\n",
       " 'acari',\n",
       " 'acarian',\n",
       " 'acariasis',\n",
       " 'acaricidal',\n",
       " 'acaricide',\n",
       " 'acarid',\n",
       " 'acarida',\n",
       " 'acaridea',\n",
       " 'acaridean',\n",
       " 'acaridomatium',\n",
       " 'acariform',\n",
       " 'acarina',\n",
       " 'acarine',\n",
       " 'acarinosis',\n",
       " 'acarocecidium',\n",
       " 'acarodermatitis',\n",
       " 'acaroid',\n",
       " 'acarol',\n",
       " 'acarologist',\n",
       " 'acarology',\n",
       " 'acarophilous',\n",
       " 'acarophobia',\n",
       " 'acarotoxic',\n",
       " 'acarpelous',\n",
       " 'acarpous',\n",
       " 'acarus',\n",
       " 'acastus',\n",
       " 'acatalectic',\n",
       " 'acatalepsia',\n",
       " 'acatalepsy',\n",
       " 'acataleptic',\n",
       " 'acatallactic',\n",
       " 'acatamathesia',\n",
       " 'acataphasia',\n",
       " 'acataposis',\n",
       " 'acatastasia',\n",
       " 'acatastatic',\n",
       " 'acate',\n",
       " 'acategorical',\n",
       " 'acatery',\n",
       " 'acatharsia',\n",
       " 'acatharsy',\n",
       " 'acatholic',\n",
       " 'acaudal',\n",
       " 'acaudate',\n",
       " 'acaulescent',\n",
       " 'acauline',\n",
       " 'acaulose',\n",
       " 'acaulous',\n",
       " 'acca',\n",
       " 'accedence',\n",
       " 'acceder',\n",
       " 'accelerable',\n",
       " 'accelerando',\n",
       " 'accelerant',\n",
       " 'acceleratedly',\n",
       " 'accelerative',\n",
       " 'acceleratory',\n",
       " 'accelerograph',\n",
       " 'accelerometer',\n",
       " 'accend',\n",
       " 'accendibility',\n",
       " 'accendible',\n",
       " 'accension',\n",
       " 'accensor',\n",
       " 'accentless',\n",
       " 'accentor',\n",
       " 'accentuable',\n",
       " 'accentual',\n",
       " 'accentuality',\n",
       " 'accentually',\n",
       " 'accentuator',\n",
       " 'accentus',\n",
       " 'acceptableness',\n",
       " 'acceptancy',\n",
       " 'acceptant',\n",
       " 'acceptation',\n",
       " 'acceptedly',\n",
       " 'accepter',\n",
       " 'acceptilate',\n",
       " 'acceptilation',\n",
       " 'acception',\n",
       " 'acceptive',\n",
       " 'acceptor',\n",
       " 'acceptress',\n",
       " 'accerse',\n",
       " 'accersition',\n",
       " 'accersitor',\n",
       " 'accessarily',\n",
       " 'accessariness',\n",
       " 'accessary',\n",
       " 'accessaryship',\n",
       " 'accessional',\n",
       " 'accessioner',\n",
       " 'accessive',\n",
       " 'accessively',\n",
       " 'accessless',\n",
       " 'accessorial',\n",
       " 'accessorily',\n",
       " 'accessoriness',\n",
       " 'accessorius',\n",
       " 'accidence',\n",
       " 'accidency',\n",
       " 'accidentalism',\n",
       " 'accidentalist',\n",
       " 'accidentality',\n",
       " 'accidentalness',\n",
       " 'accidented',\n",
       " 'accidential',\n",
       " 'accidentiality',\n",
       " 'accidently',\n",
       " 'accidia',\n",
       " 'accidie',\n",
       " 'accinge',\n",
       " 'accipient',\n",
       " 'accipiter',\n",
       " 'accipitral',\n",
       " 'accipitrary',\n",
       " 'accipitres',\n",
       " 'accipitrine',\n",
       " 'accismus',\n",
       " 'accite',\n",
       " 'acclaimable',\n",
       " 'acclaimer',\n",
       " 'acclamator',\n",
       " 'acclamatory',\n",
       " 'acclimatable',\n",
       " 'acclimatation',\n",
       " 'acclimatement',\n",
       " 'acclimatizable',\n",
       " 'acclimatizer',\n",
       " 'acclimature',\n",
       " 'acclinal',\n",
       " 'acclinate',\n",
       " 'acclivitous',\n",
       " 'acclivity',\n",
       " 'acclivous',\n",
       " 'accloy',\n",
       " 'accoast',\n",
       " 'accoil',\n",
       " 'accoladed',\n",
       " 'accolated',\n",
       " 'accolent',\n",
       " 'accolle',\n",
       " 'accombination',\n",
       " 'accommodable',\n",
       " 'accommodableness',\n",
       " 'accommodately',\n",
       " 'accommodateness',\n",
       " 'accommodatingly',\n",
       " 'accommodational',\n",
       " 'accommodative',\n",
       " 'accommodativeness',\n",
       " 'accommodator',\n",
       " 'accompanier',\n",
       " 'accompanimental',\n",
       " 'accompanyist',\n",
       " 'accompletive',\n",
       " 'accompliceship',\n",
       " 'accomplicity',\n",
       " 'accomplishable',\n",
       " 'accomplisher',\n",
       " 'accomplisht',\n",
       " 'accompt',\n",
       " 'accordable',\n",
       " 'accordancy',\n",
       " 'accordant',\n",
       " 'accordantly',\n",
       " 'accorder',\n",
       " 'accordionist',\n",
       " 'accorporate',\n",
       " 'accorporation',\n",
       " 'accostable',\n",
       " 'accouche',\n",
       " 'accouchement',\n",
       " 'accoucheur',\n",
       " 'accoucheuse',\n",
       " 'accountableness',\n",
       " 'accountably',\n",
       " 'accountantship',\n",
       " 'accountment',\n",
       " 'accouple',\n",
       " 'accouplement',\n",
       " 'accouter',\n",
       " 'accouterment',\n",
       " 'accoy',\n",
       " 'accreditate',\n",
       " 'accreditment',\n",
       " 'accrementitial',\n",
       " 'accrementition',\n",
       " 'accresce',\n",
       " 'accrescence',\n",
       " 'accrescent',\n",
       " 'accretal',\n",
       " 'accrete',\n",
       " 'accretionary',\n",
       " 'accretive',\n",
       " 'accroach',\n",
       " 'accroides',\n",
       " 'accruement',\n",
       " 'accruer',\n",
       " 'accubation',\n",
       " 'accubitum',\n",
       " 'accubitus',\n",
       " 'accultural',\n",
       " 'acculturate',\n",
       " 'acculturize',\n",
       " 'accumbency',\n",
       " 'accumbent',\n",
       " 'accumber',\n",
       " 'accumulable',\n",
       " 'accumulativ',\n",
       " 'accumulatively',\n",
       " 'accumulativeness',\n",
       " 'accurse',\n",
       " 'accursedly',\n",
       " 'accursedness',\n",
       " 'accusable',\n",
       " 'accusably',\n",
       " 'accusal',\n",
       " 'accusant',\n",
       " 'accusatival',\n",
       " 'accusatively',\n",
       " 'accusatorial',\n",
       " 'accusatorially',\n",
       " 'accusatrix',\n",
       " 'accusive',\n",
       " 'accustomedly',\n",
       " 'accustomedness',\n",
       " 'aceacenaphthene',\n",
       " 'aceanthrene',\n",
       " 'aceanthrenequinone',\n",
       " 'acecaffine',\n",
       " 'aceconitic',\n",
       " 'acedia',\n",
       " 'acediamine',\n",
       " 'acediast',\n",
       " 'acedy',\n",
       " 'aceldama',\n",
       " 'acemetae',\n",
       " 'acemetic',\n",
       " 'acenaphthene',\n",
       " 'acenaphthenyl',\n",
       " 'acenaphthylene',\n",
       " 'acentric',\n",
       " 'acentrous',\n",
       " 'aceologic',\n",
       " 'aceology',\n",
       " 'acephal',\n",
       " 'acephala',\n",
       " 'acephalan',\n",
       " 'acephali',\n",
       " 'acephalia',\n",
       " 'acephalina',\n",
       " 'acephaline',\n",
       " 'acephalism',\n",
       " 'acephalist',\n",
       " 'acephalite',\n",
       " 'acephalocyst',\n",
       " 'acephalous',\n",
       " 'acephalus',\n",
       " 'acer',\n",
       " 'aceraceae',\n",
       " 'aceraceous',\n",
       " 'acerae',\n",
       " 'acerata',\n",
       " 'acerate',\n",
       " 'acerates',\n",
       " 'acerathere',\n",
       " 'aceratherium',\n",
       " 'aceratosis',\n",
       " 'acerb',\n",
       " 'acerbas',\n",
       " 'acerbate',\n",
       " 'acerdol',\n",
       " 'acerin',\n",
       " 'acerose',\n",
       " 'acerous',\n",
       " 'acerra',\n",
       " 'acertannin',\n",
       " 'acervate',\n",
       " 'acervately',\n",
       " 'acervation',\n",
       " 'acervative',\n",
       " 'acervose',\n",
       " 'acervuline',\n",
       " 'acervulus',\n",
       " 'acescence',\n",
       " 'acescency',\n",
       " 'acescent',\n",
       " 'aceship',\n",
       " 'acesodyne',\n",
       " 'acestes',\n",
       " 'acetabular',\n",
       " 'acetabularia',\n",
       " 'acetabuliferous',\n",
       " 'acetabuliform',\n",
       " 'acetabulous',\n",
       " 'acetabulum',\n",
       " 'acetacetic',\n",
       " 'acetal',\n",
       " 'acetaldehydase',\n",
       " 'acetaldehyde',\n",
       " 'acetaldehydrase',\n",
       " 'acetalization',\n",
       " 'acetalize',\n",
       " 'acetamide',\n",
       " 'acetamidin',\n",
       " 'acetamidine',\n",
       " 'acetamido',\n",
       " 'acetaminol',\n",
       " 'acetanilid',\n",
       " 'acetanilide',\n",
       " 'acetanion',\n",
       " 'acetaniside',\n",
       " 'acetanisidide',\n",
       " 'acetannin',\n",
       " 'acetarious',\n",
       " 'acetarsone',\n",
       " 'acetated',\n",
       " 'acetation',\n",
       " 'acetbromamide',\n",
       " 'acetenyl',\n",
       " 'acethydrazide',\n",
       " 'acetification',\n",
       " 'acetifier',\n",
       " 'acetify',\n",
       " 'acetimeter',\n",
       " 'acetimetry',\n",
       " 'acetin',\n",
       " 'acetize',\n",
       " 'acetmethylanilide',\n",
       " 'acetnaphthalide',\n",
       " 'acetoacetanilide',\n",
       " 'acetoacetate',\n",
       " 'acetoacetic',\n",
       " 'acetoamidophenol',\n",
       " 'acetoarsenite',\n",
       " 'acetobacter',\n",
       " 'acetobenzoic',\n",
       " 'acetobromanilide',\n",
       " 'acetochloral',\n",
       " 'acetocinnamene',\n",
       " 'acetoin',\n",
       " 'acetol',\n",
       " 'acetolysis',\n",
       " 'acetolytic',\n",
       " 'acetometer',\n",
       " 'acetometrical',\n",
       " 'acetometrically',\n",
       " 'acetometry',\n",
       " 'acetomorphine',\n",
       " 'acetonaphthone',\n",
       " 'acetonate',\n",
       " 'acetonation',\n",
       " 'acetonemia',\n",
       " 'acetonemic',\n",
       " 'acetonic',\n",
       " 'acetonitrile',\n",
       " 'acetonization',\n",
       " 'acetonize',\n",
       " 'acetonuria',\n",
       " 'acetonurometer',\n",
       " 'acetonyl',\n",
       " 'acetonylacetone',\n",
       " 'acetonylidene',\n",
       " 'acetophenetide',\n",
       " 'acetophenin',\n",
       " 'acetophenine',\n",
       " 'acetophenone',\n",
       " 'acetopiperone',\n",
       " 'acetopyrin',\n",
       " 'acetosalicylic',\n",
       " 'acetose',\n",
       " 'acetosity',\n",
       " 'acetosoluble',\n",
       " 'acetothienone',\n",
       " 'acetotoluide',\n",
       " 'acetotoluidine',\n",
       " 'acetous',\n",
       " 'acetoveratrone',\n",
       " 'acetoxime',\n",
       " 'acetoxyl',\n",
       " 'acetoxyphthalide',\n",
       " 'acetphenetid',\n",
       " 'acetphenetidin',\n",
       " ...]"
      ]
     },
     "execution_count": 28,
     "metadata": {},
     "output_type": "execute_result"
    }
   ],
   "source": [
    "unx_words = nltk.corpus.PlaintextCorpusReader(\"/usr/share/dict/\", \"words\").words()\n",
    "\n",
    "def unusual_vocab(word_list):\n",
    "    \n",
    "    alpha = [w.lower() for w in word_list if w.isalpha()]\n",
    "    vocab = [w.lower() for w in nltk.corpus.words.words()]\n",
    "    \n",
    "    return sorted(set(vocab) - set(alpha))\n",
    "\n",
    "unusual_vocab(unx_words)"
   ]
  },
  {
   "cell_type": "markdown",
   "metadata": {},
   "source": [
    "## Stop words"
   ]
  },
  {
   "cell_type": "code",
   "execution_count": 29,
   "metadata": {},
   "outputs": [
    {
     "data": {
      "text/plain": [
       "0.735240435097661"
      ]
     },
     "execution_count": 29,
     "metadata": {},
     "output_type": "execute_result"
    }
   ],
   "source": [
    "sw_en = nltk.corpus.stopwords.words(\"english\")\n",
    "\n",
    "def content_fraction(word_list):\n",
    "    \n",
    "    len_text = len(word_list)\n",
    "    len_cont = len([w for w in word_list if not w.lower() in sw_en])\n",
    "    \n",
    "    return len_cont / len_text\n",
    "\n",
    "content_fraction(nltk.corpus.reuters.words())"
   ]
  },
  {
   "cell_type": "markdown",
   "metadata": {},
   "source": [
    "## Puzzle\n",
    "\n",
    "E G I V R V O N L\n",
    "\n",
    "Find words that combine these letters:\n",
    "\n",
    "- 6 letters or longer\n",
    "- R must be present\n",
    "- At least one 9-letter word"
   ]
  },
  {
   "cell_type": "code",
   "execution_count": 30,
   "metadata": {},
   "outputs": [
    {
     "data": {
      "text/plain": [
       "['glover',\n",
       " 'gorlin',\n",
       " 'govern',\n",
       " 'grovel',\n",
       " 'ignore',\n",
       " 'involver',\n",
       " 'lienor',\n",
       " 'linger',\n",
       " 'longer',\n",
       " 'lovering',\n",
       " 'noiler',\n",
       " 'overling',\n",
       " 'region',\n",
       " 'renvoi',\n",
       " 'revolving',\n",
       " 'ringle',\n",
       " 'roving',\n",
       " 'violer',\n",
       " 'virole']"
      ]
     },
     "execution_count": 30,
     "metadata": {},
     "output_type": "execute_result"
    }
   ],
   "source": [
    "pzl_letters = nltk.FreqDist(\"egivrvonl\")\n",
    "pzl_oblig = \"r\"\n",
    "word_list = nltk.corpus.words.words()\n",
    "\n",
    "[\n",
    "    w for w in word_list\n",
    "    if len(w) >= 6\n",
    "    and pzl_oblig in w\n",
    "    and nltk.FreqDist(w) <= pzl_letters\n",
    "]"
   ]
  },
  {
   "cell_type": "markdown",
   "metadata": {
    "scrolled": true
   },
   "source": [
    "## Last letter in male and female names"
   ]
  },
  {
   "cell_type": "code",
   "execution_count": 42,
   "metadata": {},
   "outputs": [
    {
     "data": {
      "image/png": "[encoded data removed]",
      "text/plain": [
       "<Figure size 1080x504 with 1 Axes>"
      ]
     },
     "metadata": {
      "needs_background": "light"
     },
     "output_type": "display_data"
    },
    {
     "data": {
      "text/plain": [
       "<AxesSubplot:xlabel='Samples', ylabel='Counts'>"
      ]
     },
     "execution_count": 42,
     "metadata": {},
     "output_type": "execute_result"
    }
   ],
   "source": [
    "cfd_names = nltk.ConditionalFreqDist(\n",
    "    (gender, name[-1])\n",
    "    for gender in [\"female\", \"male\"]\n",
    "    for name in nltk.corpus.names.words(gender + \".txt\")\n",
    ")\n",
    "\n",
    "cfd_names.plot()"
   ]
  },
  {
   "cell_type": "markdown",
   "metadata": {},
   "source": [
    "# 4.2 A pronouncing dictionary\n",
    "\n",
    "In the CMU dictionary, each entry is a tuple whose first element is the word and the second element is a list of phones."
   ]
  },
  {
   "cell_type": "code",
   "execution_count": 44,
   "metadata": {
    "scrolled": true
   },
   "outputs": [
    {
     "data": {
      "text/plain": [
       "[('fir', ['F', 'ER1']),\n",
       " ('fire', ['F', 'AY1', 'ER0']),\n",
       " ('fire', ['F', 'AY1', 'R']),\n",
       " ('firearm', ['F', 'AY1', 'ER0', 'AA2', 'R', 'M']),\n",
       " ('firearm', ['F', 'AY1', 'R', 'AA2', 'R', 'M']),\n",
       " ('firearms', ['F', 'AY1', 'ER0', 'AA2', 'R', 'M', 'Z']),\n",
       " ('firearms', ['F', 'AY1', 'R', 'AA2', 'R', 'M', 'Z']),\n",
       " ('fireball', ['F', 'AY1', 'ER0', 'B', 'AO2', 'L'])]"
      ]
     },
     "execution_count": 44,
     "metadata": {},
     "output_type": "execute_result"
    }
   ],
   "source": [
    "entries = nltk.corpus.cmudict.entries()\n",
    "\n",
    "entries[42371:42379]"
   ]
  },
  {
   "cell_type": "markdown",
   "metadata": {},
   "source": [
    "## Words that end with a sound like \"nicks\""
   ]
  },
  {
   "cell_type": "code",
   "execution_count": 47,
   "metadata": {
    "scrolled": true
   },
   "outputs": [
    {
     "data": {
      "text/plain": [
       "[\"atlantic's\",\n",
       " 'audiotronics',\n",
       " 'avionics',\n",
       " 'beatniks',\n",
       " 'calisthenics',\n",
       " 'centronics',\n",
       " 'chamonix',\n",
       " 'chetniks',\n",
       " \"clinic's\",\n",
       " 'clinics',\n",
       " 'conics',\n",
       " 'conics',\n",
       " 'cryogenics',\n",
       " 'cynics',\n",
       " 'diasonics',\n",
       " \"dominic's\",\n",
       " 'ebonics',\n",
       " 'electronics',\n",
       " \"electronics'\",\n",
       " \"endotronics'\",\n",
       " 'endotronics',\n",
       " 'enix',\n",
       " 'environics',\n",
       " 'ethnics',\n",
       " 'eugenics',\n",
       " 'fibronics',\n",
       " 'flextronics',\n",
       " 'harmonics',\n",
       " 'hispanics',\n",
       " 'histrionics',\n",
       " 'identics',\n",
       " 'ionics',\n",
       " 'kibbutzniks',\n",
       " 'lasersonics',\n",
       " 'lumonics',\n",
       " 'mannix',\n",
       " 'mechanics',\n",
       " \"mechanics'\",\n",
       " 'microelectronics',\n",
       " 'minix',\n",
       " 'minnix',\n",
       " 'mnemonics',\n",
       " 'mnemonics',\n",
       " 'molonicks',\n",
       " 'mullenix',\n",
       " 'mullenix',\n",
       " 'mullinix',\n",
       " 'mulnix',\n",
       " \"munich's\",\n",
       " 'nucleonics',\n",
       " 'onyx',\n",
       " 'organics',\n",
       " \"panic's\",\n",
       " 'panics',\n",
       " 'penix',\n",
       " 'pennix',\n",
       " 'personics',\n",
       " 'phenix',\n",
       " \"philharmonic's\",\n",
       " 'phoenix',\n",
       " 'phonics',\n",
       " 'photronics',\n",
       " 'pinnix',\n",
       " 'plantronics',\n",
       " 'pyrotechnics',\n",
       " 'refuseniks',\n",
       " \"resnick's\",\n",
       " 'respironics',\n",
       " 'sconnix',\n",
       " 'siliconix',\n",
       " 'skolniks',\n",
       " 'sonics',\n",
       " 'sputniks',\n",
       " 'technics',\n",
       " 'tectonics',\n",
       " 'tektronix',\n",
       " 'telectronics',\n",
       " 'telephonics',\n",
       " 'tonics',\n",
       " 'unix',\n",
       " \"vinick's\",\n",
       " \"vinnick's\",\n",
       " 'vitronics']"
      ]
     },
     "execution_count": 47,
     "metadata": {},
     "output_type": "execute_result"
    }
   ],
   "source": [
    "syl = [\"N\", \"IH0\", \"K\", \"S\"]\n",
    "[e for e,p in entries if p[-4:] == syl]"
   ]
  },
  {
   "cell_type": "markdown",
   "metadata": {},
   "source": [
    "## Explain this piece of code"
   ]
  },
  {
   "cell_type": "code",
   "execution_count": 48,
   "metadata": {},
   "outputs": [
    {
     "data": {
      "text/plain": [
       "['autumn', 'column', 'condemn', 'damn', 'goddamn', 'hymn', 'solemn']"
      ]
     },
     "execution_count": 48,
     "metadata": {},
     "output_type": "execute_result"
    }
   ],
   "source": [
    "[w for w,p in entries if p[-1] == 'M' and w[-1] == 'n']"
   ]
  },
  {
   "cell_type": "markdown",
   "metadata": {},
   "source": [
    "This extracts the words with \"M\" as its last phone and \"n\" as its last letter."
   ]
  },
  {
   "cell_type": "code",
   "execution_count": 49,
   "metadata": {
    "scrolled": true
   },
   "outputs": [
    {
     "data": {
      "text/plain": [
       "['gn', 'kn', 'mn', 'pn']"
      ]
     },
     "execution_count": 49,
     "metadata": {},
     "output_type": "execute_result"
    }
   ],
   "source": [
    "sorted(set(w[:2]\n",
    "           for w, pron in entries\n",
    "           if pron[0] == 'N'\n",
    "           and w[0] != 'n'))"
   ]
  },
  {
   "cell_type": "markdown",
   "metadata": {},
   "source": [
    "This extracts the first two letters which produce a first phone \"N\" but whose first letter is not \"n\"."
   ]
  },
  {
   "cell_type": "markdown",
   "metadata": {},
   "source": [
    "## Extract stresses from phone lists"
   ]
  },
  {
   "cell_type": "code",
   "execution_count": 55,
   "metadata": {
    "scrolled": true
   },
   "outputs": [
    {
     "data": {
      "text/plain": [
       "['abbreviate',\n",
       " 'abbreviates',\n",
       " 'accelerate',\n",
       " 'accelerates',\n",
       " 'accessorize',\n",
       " 'accessorized',\n",
       " 'accommodate',\n",
       " 'accommodates',\n",
       " 'accumulate',\n",
       " 'accumulates',\n",
       " 'acetochlor',\n",
       " 'acetylene',\n",
       " 'acidified',\n",
       " 'acidifies',\n",
       " 'acidify',\n",
       " 'acyclovir',\n",
       " 'adagio',\n",
       " 'adaptaplex',\n",
       " 'adenoscan',\n",
       " 'adenosine',\n",
       " 'adjudicate',\n",
       " 'administrate',\n",
       " 'adulterate',\n",
       " 'adulterates',\n",
       " 'affiliate',\n",
       " \"affiliate's\",\n",
       " 'affiliates',\n",
       " 'afghanistan',\n",
       " \"afghanistan's\",\n",
       " 'afghanistans',\n",
       " 'agglomerate',\n",
       " 'agglutinate',\n",
       " 'alleviate',\n",
       " 'alternacare',\n",
       " 'aluminize',\n",
       " 'aluminized',\n",
       " 'alveoli',\n",
       " 'amagansett',\n",
       " 'amalgamate',\n",
       " 'amalgamates',\n",
       " 'ameliorate',\n",
       " 'ameribanc',\n",
       " 'americar',\n",
       " 'americare',\n",
       " 'americares',\n",
       " \"americas'\",\n",
       " 'americold',\n",
       " 'americorp',\n",
       " 'americorp',\n",
       " 'americorps',\n",
       " 'amerigas',\n",
       " 'amerihost',\n",
       " 'ameritech',\n",
       " \"ameritech's\",\n",
       " 'ameritrust',\n",
       " 'amiprilose',\n",
       " 'amnesiac',\n",
       " 'amphetamine',\n",
       " 'amphetamines',\n",
       " 'anafranil',\n",
       " 'analyses',\n",
       " 'annihilate',\n",
       " 'antagonize',\n",
       " 'antagonized',\n",
       " 'anticipate',\n",
       " 'anticipates',\n",
       " \"antigone's\",\n",
       " 'antigones',\n",
       " \"antonio's\",\n",
       " 'antonios',\n",
       " 'apocalypse',\n",
       " 'apologize',\n",
       " 'apologized',\n",
       " 'appreciate',\n",
       " 'appreciates',\n",
       " 'apprenticeship',\n",
       " 'apprenticeships',\n",
       " 'appropriate',\n",
       " 'appropriates',\n",
       " 'approximate',\n",
       " 'approximates',\n",
       " 'arabichon',\n",
       " \"arabichon's\",\n",
       " 'arabicon',\n",
       " 'arapaho',\n",
       " 'arapahoe',\n",
       " 'arenaball',\n",
       " 'aristocrat',\n",
       " 'aristocrats',\n",
       " 'arithmetic',\n",
       " 'articulate',\n",
       " 'asphyxiate',\n",
       " 'asphyxiates',\n",
       " 'assassinate',\n",
       " 'assemblyman',\n",
       " 'assimilate',\n",
       " 'associate',\n",
       " 'associate',\n",
       " 'associates',\n",
       " 'associates',\n",
       " 'athleticism',\n",
       " 'attenuate',\n",
       " 'attenuates',\n",
       " 'authenticate',\n",
       " 'automaton',\n",
       " 'bartholomew',\n",
       " 'baryshnikov',\n",
       " \"baryshnikov's\",\n",
       " 'beatified',\n",
       " 'beatify',\n",
       " 'belefiville',\n",
       " 'beregovoy',\n",
       " 'calliope',\n",
       " 'calliopes',\n",
       " 'canadienne',\n",
       " 'catanzarite',\n",
       " 'chiapparone',\n",
       " 'cholesterol',\n",
       " 'coagulate',\n",
       " 'collaborate',\n",
       " 'collectivize',\n",
       " 'collectivized',\n",
       " 'colossally',\n",
       " 'commemorate',\n",
       " 'commemorates',\n",
       " 'commercialize',\n",
       " 'commercialized',\n",
       " 'commiserate',\n",
       " 'communicate',\n",
       " 'communicates',\n",
       " 'communique',\n",
       " 'companionship',\n",
       " 'companionway',\n",
       " 'computercraft',\n",
       " 'computerize',\n",
       " 'computerized',\n",
       " 'computerland',\n",
       " \"computerland's\",\n",
       " 'computerlike',\n",
       " 'computerworld',\n",
       " 'concatenate',\n",
       " 'concatenates',\n",
       " 'confederate',\n",
       " 'congratulate',\n",
       " 'consolidate',\n",
       " 'consolidates',\n",
       " 'containerboard',\n",
       " 'containerize',\n",
       " 'containerized',\n",
       " 'contaminate',\n",
       " 'contaminates',\n",
       " 'cooperate',\n",
       " 'cooperates',\n",
       " 'coordinate',\n",
       " 'coordinates',\n",
       " 'corroborate',\n",
       " 'corroborates',\n",
       " 'corroborative',\n",
       " 'cyclosporine',\n",
       " 'debilitate',\n",
       " 'decaffeinate',\n",
       " 'decapitate',\n",
       " 'decelerate',\n",
       " 'decentralize',\n",
       " 'decentralized',\n",
       " 'decertified',\n",
       " 'decertify',\n",
       " 'declassified',\n",
       " 'declassify',\n",
       " 'deemphasize',\n",
       " 'degenerate',\n",
       " 'deliberate',\n",
       " 'deliberates',\n",
       " 'delineate',\n",
       " 'delineates',\n",
       " 'demobilize',\n",
       " 'demobilized',\n",
       " 'democratize',\n",
       " 'democratized',\n",
       " 'demoralize',\n",
       " 'demoralized',\n",
       " 'demystify',\n",
       " 'denominate',\n",
       " 'depersonalize',\n",
       " 'depopulate',\n",
       " 'depreciate',\n",
       " 'depreciates',\n",
       " 'depressurize',\n",
       " 'depressurized',\n",
       " 'desegregate',\n",
       " 'desensitize',\n",
       " 'desensitized',\n",
       " 'destabilize',\n",
       " 'destabilized',\n",
       " 'determinate',\n",
       " 'detoxify',\n",
       " 'devaluate',\n",
       " 'diastole',\n",
       " 'dictatorship',\n",
       " 'dictatorships',\n",
       " 'dilapidate',\n",
       " 'diltiazem',\n",
       " 'directorship',\n",
       " 'directorship',\n",
       " 'directorship',\n",
       " 'directorship',\n",
       " 'directorships',\n",
       " 'directorships',\n",
       " 'directorships',\n",
       " 'directorships',\n",
       " 'discriminate',\n",
       " 'discriminates',\n",
       " 'disintegrate',\n",
       " 'disintegrates',\n",
       " 'disorganize',\n",
       " 'disorganized',\n",
       " 'disorient',\n",
       " 'disqualified',\n",
       " 'disqualifies',\n",
       " 'disqualify',\n",
       " 'dissatisfied',\n",
       " 'dissatisfy',\n",
       " 'disseminate',\n",
       " 'disseminates',\n",
       " 'diversified',\n",
       " 'diversified',\n",
       " 'diversify',\n",
       " 'diversify',\n",
       " 'domesticate',\n",
       " 'domesticates',\n",
       " 'econocom',\n",
       " 'econoline',\n",
       " 'economize',\n",
       " 'economize',\n",
       " 'effectuate',\n",
       " 'ejaculate',\n",
       " 'elaborate',\n",
       " 'elaborates',\n",
       " 'electricar',\n",
       " 'electrified',\n",
       " 'electrifies',\n",
       " 'electrify',\n",
       " 'electrocom',\n",
       " 'electrocute',\n",
       " 'electroplate',\n",
       " 'electrosound',\n",
       " 'electrospace',\n",
       " 'electrospray',\n",
       " 'eliminate',\n",
       " 'eliminates',\n",
       " 'elucidate',\n",
       " 'emaciate',\n",
       " 'emaciates',\n",
       " 'emancipate',\n",
       " 'emancipates',\n",
       " 'emasculate',\n",
       " 'emoticon',\n",
       " 'encapsulate',\n",
       " 'enthusiast',\n",
       " 'enthusiasts',\n",
       " 'enthusiasts',\n",
       " 'enthusiasts',\n",
       " 'enumerate',\n",
       " 'enumerates',\n",
       " 'enunciate',\n",
       " 'enunciate',\n",
       " 'envirodyne',\n",
       " 'enviropact',\n",
       " 'envirosafe',\n",
       " 'epitomize',\n",
       " 'epitomized',\n",
       " 'equivocate',\n",
       " 'eradicate',\n",
       " 'evacuate',\n",
       " 'evacuate',\n",
       " 'evaluate',\n",
       " 'evaluate',\n",
       " 'evaluates',\n",
       " 'evaluates',\n",
       " 'evangeline',\n",
       " 'evangelize',\n",
       " 'evangelize',\n",
       " 'evaporate',\n",
       " 'evaporates',\n",
       " 'evaporates',\n",
       " 'eviscerate',\n",
       " 'exacerbate',\n",
       " 'exacerbates',\n",
       " 'exactitude',\n",
       " 'exaggerate',\n",
       " 'exaggerates',\n",
       " 'exasperate',\n",
       " 'excoriate',\n",
       " 'exemplified',\n",
       " 'exemplifies',\n",
       " 'exemplify',\n",
       " 'exhilarate',\n",
       " 'exonerate',\n",
       " 'exonerates',\n",
       " 'expatriate',\n",
       " 'expatriates',\n",
       " 'expropriate',\n",
       " 'extenuate',\n",
       " 'exterminate',\n",
       " 'exterminates',\n",
       " 'extortionate',\n",
       " 'extrapolate',\n",
       " 'extrapolates',\n",
       " 'facilitate',\n",
       " 'facilitates',\n",
       " 'familiarize',\n",
       " 'familiarized',\n",
       " 'felicitate',\n",
       " 'fiduciares',\n",
       " 'formaldehyde',\n",
       " 'formaldehyde',\n",
       " 'gametophyte',\n",
       " 'geronimo',\n",
       " 'girozentrale',\n",
       " 'glucosamate',\n",
       " 'glucosamine',\n",
       " 'granulocyte',\n",
       " 'hermaphrodite',\n",
       " 'homogenize',\n",
       " 'homogenized',\n",
       " 'humiliate',\n",
       " 'humiliates',\n",
       " 'hyderabad',\n",
       " 'hyperbole',\n",
       " 'hypotheses',\n",
       " 'hypothesize',\n",
       " 'hypothesized',\n",
       " 'idealized',\n",
       " 'identified',\n",
       " 'identified',\n",
       " 'identifies',\n",
       " 'identifies',\n",
       " 'identify',\n",
       " 'identify',\n",
       " 'identikit',\n",
       " 'illuminates',\n",
       " 'immobilize',\n",
       " 'immobilized',\n",
       " 'impersonate',\n",
       " 'impersonates',\n",
       " 'inactivate',\n",
       " 'inactivates',\n",
       " 'inadequate',\n",
       " 'incarcerate',\n",
       " 'incarcerates',\n",
       " 'incinerate',\n",
       " 'incorporate',\n",
       " 'incorporates',\n",
       " 'incriminate',\n",
       " 'indemnified',\n",
       " 'indemnify',\n",
       " 'inebriate',\n",
       " 'inebriates',\n",
       " 'ineptitude',\n",
       " 'infanticide',\n",
       " 'infanticides',\n",
       " 'infatuate',\n",
       " 'infatuates',\n",
       " 'infuriate',\n",
       " 'infuriates',\n",
       " 'ingratiate',\n",
       " 'initialize',\n",
       " 'initialized',\n",
       " 'initiate',\n",
       " 'innoculate',\n",
       " 'innoculates',\n",
       " 'inoculate',\n",
       " 'inoculates',\n",
       " 'insecticide',\n",
       " 'insecticides',\n",
       " 'inseminate',\n",
       " 'insomniac',\n",
       " 'instantiate',\n",
       " 'instantiates',\n",
       " 'intellicall',\n",
       " 'intellicorp',\n",
       " 'intensified',\n",
       " 'intensifies',\n",
       " 'intensify',\n",
       " 'internalize',\n",
       " 'internalized',\n",
       " 'internecine',\n",
       " 'interrogate',\n",
       " 'intimidate',\n",
       " 'intimidates',\n",
       " 'intoxicate',\n",
       " 'intoxicates',\n",
       " 'invalidate',\n",
       " 'investigate',\n",
       " 'investigates',\n",
       " 'irianese',\n",
       " 'irradiate',\n",
       " 'isosceles',\n",
       " 'italianate',\n",
       " 'kafelnikov',\n",
       " 'kafelnikov',\n",
       " 'kalashnikov',\n",
       " 'kaleidoscope',\n",
       " 'kaliningrad',\n",
       " 'kerpedjiev',\n",
       " 'koreagate',\n",
       " 'koreagate',\n",
       " 'koreatown',\n",
       " 'laboratoires',\n",
       " 'legitimize',\n",
       " 'legitimize',\n",
       " 'legitimized',\n",
       " 'levamisole',\n",
       " 'liotier',\n",
       " 'manipulate',\n",
       " 'manipulates',\n",
       " 'marimbalax',\n",
       " 'mccarthyite',\n",
       " 'mcconahay',\n",
       " 'mccorkindale',\n",
       " 'mccorquodale',\n",
       " 'mcgranahan',\n",
       " 'metabolize',\n",
       " 'metastasize',\n",
       " 'metastasized',\n",
       " 'middenstandsbank',\n",
       " 'misallocate',\n",
       " 'misallocates',\n",
       " 'miscalculate',\n",
       " 'miscalculates',\n",
       " 'misrecognize',\n",
       " 'misrecognized',\n",
       " 'mononokai',\n",
       " 'monopolize',\n",
       " 'monopolized',\n",
       " 'mujahadeen',\n",
       " 'mustachio',\n",
       " 'mustachioed',\n",
       " 'neanderthal',\n",
       " 'neanderthals',\n",
       " 'necessitate',\n",
       " 'necessitates',\n",
       " 'negotiate',\n",
       " 'negotiate',\n",
       " 'negotiates',\n",
       " 'nonqualified',\n",
       " 'nonunionized',\n",
       " 'numismatist',\n",
       " 'numismatists',\n",
       " 'numismatists',\n",
       " 'numismatists',\n",
       " 'obliterate',\n",
       " 'obliterates',\n",
       " \"o'callahan\",\n",
       " 'ocallahan',\n",
       " 'officiate',\n",
       " 'officiates',\n",
       " 'olajuwon',\n",
       " \"olajuwon's\",\n",
       " 'olympiad',\n",
       " 'ophthalmoscope',\n",
       " 'opinionate',\n",
       " 'oregano',\n",
       " 'originate',\n",
       " 'originates',\n",
       " 'pacificare',\n",
       " 'padmanabhan',\n",
       " 'papandreou',\n",
       " '(parentheses',\n",
       " 'parentheses',\n",
       " 'parisienne',\n",
       " 'participate',\n",
       " 'participates',\n",
       " 'perpetuate',\n",
       " 'perpetuates',\n",
       " 'personified',\n",
       " 'personifies',\n",
       " 'personify',\n",
       " 'petrosynthese',\n",
       " 'phenomenon',\n",
       " 'phonology',\n",
       " 'piscataway',\n",
       " 'pistachio',\n",
       " 'pistachios',\n",
       " 'podiatrist',\n",
       " 'polariscope',\n",
       " 'politicize',\n",
       " 'politicized',\n",
       " 'politico',\n",
       " 'politicos',\n",
       " 'pontificate',\n",
       " 'pontificates',\n",
       " 'portfolio',\n",
       " \"portfolio's\",\n",
       " 'portfolios',\n",
       " 'precipitate',\n",
       " 'predominate',\n",
       " 'predominates',\n",
       " 'prefabricate',\n",
       " 'premeditate',\n",
       " 'preoccupied',\n",
       " 'preoccupies',\n",
       " 'preoccupy',\n",
       " 'presario',\n",
       " 'presidio',\n",
       " 'prioritize',\n",
       " 'prioritized',\n",
       " 'procrastinate',\n",
       " 'procrastinates',\n",
       " 'professorship',\n",
       " 'professorships',\n",
       " 'progesterone',\n",
       " 'proliferate',\n",
       " 'proliferates',\n",
       " 'reanalyse',\n",
       " 'reanalysed',\n",
       " 'reauthorize',\n",
       " 'reauthorized',\n",
       " 'recalculate',\n",
       " 'receivership',\n",
       " 'receivership',\n",
       " 'receiverships',\n",
       " 'recidivist',\n",
       " 'recidivists',\n",
       " 'recidivists',\n",
       " 'recidivists',\n",
       " 'reciprocate',\n",
       " 'reciprocates',\n",
       " 'reclassified',\n",
       " 'reclassify',\n",
       " 'reconstitute',\n",
       " 'recuperate',\n",
       " 'recuperates',\n",
       " 'redecorate',\n",
       " 'reeducate',\n",
       " 'reemphasize',\n",
       " 'reformulate',\n",
       " 'refrigerate',\n",
       " 'regenerate',\n",
       " 'regeneron',\n",
       " 'reintegrate',\n",
       " 'reiterate',\n",
       " 'reiterates',\n",
       " 'rejuvenate',\n",
       " 'rejuvenates',\n",
       " 'relationship',\n",
       " 'relationships',\n",
       " 'remediate',\n",
       " 'remerchandise',\n",
       " 'remerchandised',\n",
       " 'renominate',\n",
       " 'renunciate',\n",
       " 'reorganize',\n",
       " 'reorganized',\n",
       " 'repatriate',\n",
       " 'republicbank',\n",
       " \"republicbank's\",\n",
       " 'repudiate',\n",
       " 'repudiates',\n",
       " 'reregulate',\n",
       " 'resuscitate',\n",
       " 'resuscitate',\n",
       " 'retaliate',\n",
       " 'retaliate',\n",
       " 'reunified',\n",
       " 'reunify',\n",
       " 'reverberates',\n",
       " 'revitalize',\n",
       " 'revitalized',\n",
       " 'romanticize',\n",
       " 'romanticized',\n",
       " 'saskatchewan',\n",
       " 'securitize',\n",
       " 'securitized',\n",
       " 'solicitude',\n",
       " 'solidified',\n",
       " 'solidifies',\n",
       " 'solidify',\n",
       " 'soliloquize',\n",
       " 'somaliland',\n",
       " 'sophisticate',\n",
       " 'sophisticates',\n",
       " 'statesmanlike',\n",
       " 'subordinate',\n",
       " 'subordinates',\n",
       " 'substantiate',\n",
       " 'substantiate',\n",
       " 'substantiates',\n",
       " 'substantiates',\n",
       " 'suburbanite',\n",
       " 'suburbanites',\n",
       " 'suburbanize',\n",
       " 'telomerase',\n",
       " 'thalidomide',\n",
       " \"thalidomide's\",\n",
       " 'tiananmen',\n",
       " 'triglyceride',\n",
       " 'triglycerides',\n",
       " 'trimetrexate',\n",
       " 'unallocate',\n",
       " 'unamortized',\n",
       " 'unauthorized',\n",
       " 'unclassified',\n",
       " 'unclassify',\n",
       " 'uncompensate',\n",
       " 'uncomplicate',\n",
       " 'undignified',\n",
       " 'unexercised',\n",
       " 'unjustified',\n",
       " 'unoccupied',\n",
       " 'unorganized',\n",
       " 'unorthodox',\n",
       " 'unparalleled',\n",
       " 'unqualified',\n",
       " 'unratified',\n",
       " 'unrealized',\n",
       " 'unrecognized',\n",
       " 'unreconciled',\n",
       " 'unsatisfied',\n",
       " 'unspecified',\n",
       " 'unsportsmanlike',\n",
       " 'unsubsidized',\n",
       " 'unsupervised',\n",
       " 'unverified',\n",
       " 'uzbekistan',\n",
       " 'valencienne',\n",
       " 'vallandingham',\n",
       " 'volkogonov',\n",
       " 'wassilievitch']"
      ]
     },
     "execution_count": 55,
     "metadata": {},
     "output_type": "execute_result"
    }
   ],
   "source": [
    "def stress(phone_list):\n",
    "    return [c for p in phone_list for c in p if c.isdigit()]\n",
    "\n",
    "[w for w,p in entries if stress(p) == [\"0\", \"1\", \"0\", \"2\"]]"
   ]
  },
  {
   "cell_type": "markdown",
   "metadata": {},
   "source": [
    "## Extract words with similar phones"
   ]
  },
  {
   "cell_type": "code",
   "execution_count": 60,
   "metadata": {
    "scrolled": true
   },
   "outputs": [
    {
     "data": {
      "text/plain": [
       "['P-P',\n",
       " 'P-R',\n",
       " 'P-SH',\n",
       " 'P-K',\n",
       " 'P-S',\n",
       " 'P-D',\n",
       " 'P-TH',\n",
       " 'P-F',\n",
       " 'P-JH',\n",
       " 'P-L',\n",
       " 'P-IY0',\n",
       " 'P-N',\n",
       " 'P-Z',\n",
       " 'P-T',\n",
       " 'P-M',\n",
       " 'P-NG',\n",
       " 'P-CH',\n",
       " 'P-V',\n",
       " 'P-ER0',\n",
       " 'P-ER1',\n",
       " 'P-G',\n",
       " 'P-AH0',\n",
       " 'P-OW0',\n",
       " 'P-OW1',\n",
       " 'P-UW1',\n",
       " 'F-F',\n",
       " 'F-L',\n",
       " 'F-R',\n",
       " 'F-M',\n",
       " 'F-N',\n",
       " 'F-Z',\n",
       " 'F-UW1',\n",
       " 'F-IY0',\n",
       " 'F-NG',\n",
       " 'F-T',\n",
       " 'P-AA1',\n",
       " 'P-EY1',\n",
       " 'P-IY1',\n",
       " 'P-AW1',\n",
       " 'P-OY1',\n",
       " 'P-AY1',\n",
       " 'S-M',\n",
       " 'S-K',\n",
       " 'T-K',\n",
       " 'P-B']"
      ]
     },
     "execution_count": 60,
     "metadata": {},
     "output_type": "execute_result"
    }
   ],
   "source": [
    "cfd_ph = nltk.ConditionalFreqDist(\n",
    "    (pron[0]+\"-\"+pron[2], word)\n",
    "    for word, pron in entries\n",
    "    if word[0] == \"p\"\n",
    "    and len(pron) == 3\n",
    ")\n",
    "\n",
    "list(cfd_ph)"
   ]
  },
  {
   "cell_type": "markdown",
   "metadata": {},
   "source": [
    "# 5.1 Senses and synonyms\n",
    "\n",
    "The `synsets(\"word\")` mehtod returns a list of synonom sets (\"synsets\") that the \"word\" belongs to.\n",
    "\n",
    "Synsets have a methods to get the synonyms (lemmas) or definitions."
   ]
  },
  {
   "cell_type": "code",
   "execution_count": 67,
   "metadata": {},
   "outputs": [
    {
     "data": {
      "text/plain": [
       "['car', 'auto', 'automobile', 'machine', 'motorcar']"
      ]
     },
     "execution_count": 67,
     "metadata": {},
     "output_type": "execute_result"
    }
   ],
   "source": [
    "from nltk.corpus import wordnet as wn\n",
    "wn.synsets(\"motorcar\")[0].lemma_names()"
   ]
  },
  {
   "cell_type": "code",
   "execution_count": 68,
   "metadata": {},
   "outputs": [
    {
     "data": {
      "text/plain": [
       "'a motor vehicle with four wheels; usually propelled by an internal combustion engine'"
      ]
     },
     "execution_count": 68,
     "metadata": {},
     "output_type": "execute_result"
    }
   ],
   "source": [
    "wn.synsets(\"motorcar\")[0].definition()"
   ]
  },
  {
   "cell_type": "code",
   "execution_count": 69,
   "metadata": {},
   "outputs": [
    {
     "data": {
      "text/plain": [
       "['he needs a car to get to work']"
      ]
     },
     "execution_count": 69,
     "metadata": {},
     "output_type": "execute_result"
    }
   ],
   "source": [
    "wn.synset(\"car.n.01\").examples()"
   ]
  },
  {
   "cell_type": "code",
   "execution_count": 70,
   "metadata": {
    "scrolled": true
   },
   "outputs": [
    {
     "data": {
      "text/plain": [
       "[Lemma('car.n.01.car'),\n",
       " Lemma('car.n.01.auto'),\n",
       " Lemma('car.n.01.automobile'),\n",
       " Lemma('car.n.01.machine'),\n",
       " Lemma('car.n.01.motorcar')]"
      ]
     },
     "execution_count": 70,
     "metadata": {},
     "output_type": "execute_result"
    }
   ],
   "source": [
    "wn.synset(\"car.n.01\").lemmas()"
   ]
  },
  {
   "cell_type": "markdown",
   "metadata": {},
   "source": [
    "## 5.2 The WordNet hierarchy\n",
    "\n",
    "Finding hyponyms (or hypernyms) of synsets."
   ]
  },
  {
   "cell_type": "code",
   "execution_count": 73,
   "metadata": {
    "scrolled": true
   },
   "outputs": [
    {
     "data": {
      "text/plain": [
       "['Model_T',\n",
       " 'S.U.V.',\n",
       " 'SUV',\n",
       " 'Stanley_Steamer',\n",
       " 'ambulance',\n",
       " 'beach_waggon',\n",
       " 'beach_wagon',\n",
       " 'bus',\n",
       " 'cab',\n",
       " 'compact',\n",
       " 'compact_car',\n",
       " 'convertible',\n",
       " 'coupe',\n",
       " 'cruiser',\n",
       " 'electric',\n",
       " 'electric_automobile',\n",
       " 'electric_car',\n",
       " 'estate_car',\n",
       " 'gas_guzzler',\n",
       " 'hack',\n",
       " 'hardtop',\n",
       " 'hatchback',\n",
       " 'heap',\n",
       " 'horseless_carriage',\n",
       " 'hot-rod',\n",
       " 'hot_rod',\n",
       " 'jalopy',\n",
       " 'jeep',\n",
       " 'landrover',\n",
       " 'limo',\n",
       " 'limousine',\n",
       " 'loaner',\n",
       " 'minicar',\n",
       " 'minivan',\n",
       " 'pace_car',\n",
       " 'patrol_car',\n",
       " 'phaeton',\n",
       " 'police_car',\n",
       " 'police_cruiser',\n",
       " 'prowl_car',\n",
       " 'race_car',\n",
       " 'racer',\n",
       " 'racing_car',\n",
       " 'roadster',\n",
       " 'runabout',\n",
       " 'saloon',\n",
       " 'secondhand_car',\n",
       " 'sedan',\n",
       " 'sport_car',\n",
       " 'sport_utility',\n",
       " 'sport_utility_vehicle',\n",
       " 'sports_car',\n",
       " 'squad_car',\n",
       " 'station_waggon',\n",
       " 'station_wagon',\n",
       " 'stock_car',\n",
       " 'subcompact',\n",
       " 'subcompact_car',\n",
       " 'taxi',\n",
       " 'taxicab',\n",
       " 'tourer',\n",
       " 'touring_car',\n",
       " 'two-seater',\n",
       " 'used-car',\n",
       " 'waggon',\n",
       " 'wagon']"
      ]
     },
     "execution_count": 73,
     "metadata": {},
     "output_type": "execute_result"
    }
   ],
   "source": [
    "synset_motorcar = wn.synset(\"car.n.01\")\n",
    "sorted(\n",
    "    lemma.name()\n",
    "    for synset in synset_motorcar.hyponyms()\n",
    "    for lemma  in synset.lemmas()\n",
    ")"
   ]
  },
  {
   "cell_type": "markdown",
   "metadata": {},
   "source": [
    "### *Side experiment `lemma_names()`*\n",
    "\n",
    "Using `lemma_names()` for each hyponym will return a list of lists."
   ]
  },
  {
   "cell_type": "code",
   "execution_count": 76,
   "metadata": {
    "scrolled": true
   },
   "outputs": [
    {
     "data": {
      "text/plain": [
       "['Model_T',\n",
       " 'S.U.V.',\n",
       " 'SUV',\n",
       " 'Stanley_Steamer',\n",
       " 'ambulance',\n",
       " 'beach_waggon',\n",
       " 'beach_wagon',\n",
       " 'bus',\n",
       " 'cab',\n",
       " 'compact',\n",
       " 'compact_car',\n",
       " 'convertible',\n",
       " 'coupe',\n",
       " 'cruiser',\n",
       " 'electric',\n",
       " 'electric_automobile',\n",
       " 'electric_car',\n",
       " 'estate_car',\n",
       " 'gas_guzzler',\n",
       " 'hack',\n",
       " 'hardtop',\n",
       " 'hatchback',\n",
       " 'heap',\n",
       " 'horseless_carriage',\n",
       " 'hot-rod',\n",
       " 'hot_rod',\n",
       " 'jalopy',\n",
       " 'jeep',\n",
       " 'landrover',\n",
       " 'limo',\n",
       " 'limousine',\n",
       " 'loaner',\n",
       " 'minicar',\n",
       " 'minivan',\n",
       " 'pace_car',\n",
       " 'patrol_car',\n",
       " 'phaeton',\n",
       " 'police_car',\n",
       " 'police_cruiser',\n",
       " 'prowl_car',\n",
       " 'race_car',\n",
       " 'racer',\n",
       " 'racing_car',\n",
       " 'roadster',\n",
       " 'runabout',\n",
       " 'saloon',\n",
       " 'secondhand_car',\n",
       " 'sedan',\n",
       " 'sport_car',\n",
       " 'sport_utility',\n",
       " 'sport_utility_vehicle',\n",
       " 'sports_car',\n",
       " 'squad_car',\n",
       " 'station_waggon',\n",
       " 'station_wagon',\n",
       " 'stock_car',\n",
       " 'subcompact',\n",
       " 'subcompact_car',\n",
       " 'taxi',\n",
       " 'taxicab',\n",
       " 'tourer',\n",
       " 'touring_car',\n",
       " 'two-seater',\n",
       " 'used-car',\n",
       " 'waggon',\n",
       " 'wagon']"
      ]
     },
     "execution_count": 76,
     "metadata": {},
     "output_type": "execute_result"
    }
   ],
   "source": [
    "sorted(\n",
    "    l\n",
    "    for s in synset_motorcar.hyponyms()\n",
    "    for l in s.lemma_names()\n",
    ")"
   ]
  },
  {
   "cell_type": "markdown",
   "metadata": {},
   "source": [
    "## Root hypernym"
   ]
  },
  {
   "cell_type": "code",
   "execution_count": 81,
   "metadata": {},
   "outputs": [
    {
     "data": {
      "text/plain": [
       "[Synset('entity.n.01')]"
      ]
     },
     "execution_count": 81,
     "metadata": {},
     "output_type": "execute_result"
    }
   ],
   "source": [
    "synset_motorcar.root_hypernyms()"
   ]
  },
  {
   "cell_type": "markdown",
   "metadata": {},
   "source": [
    "# 5.3 More lexical relations\n",
    "\n",
    "## Component (meronym) and container (holonym)"
   ]
  },
  {
   "cell_type": "code",
   "execution_count": 86,
   "metadata": {},
   "outputs": [
    {
     "data": {
      "text/plain": [
       "[[Synset('burl.n.02'),\n",
       "  Synset('crown.n.07'),\n",
       "  Synset('limb.n.02'),\n",
       "  Synset('stump.n.01'),\n",
       "  Synset('trunk.n.01')],\n",
       " [Synset('heartwood.n.01'), Synset('sapwood.n.01')],\n",
       " [Synset('forest.n.01')]]"
      ]
     },
     "execution_count": 86,
     "metadata": {},
     "output_type": "execute_result"
    }
   ],
   "source": [
    "[\n",
    "    wn.synset(\"tree.n.01\").part_meronyms(),\n",
    "    wn.synset(\"tree.n.01\").substance_meronyms(),\n",
    "    wn.synset(\"tree.n.01\").member_holonyms()\n",
    "]"
   ]
  },
  {
   "cell_type": "markdown",
   "metadata": {},
   "source": [
    "## Verb entailment"
   ]
  },
  {
   "cell_type": "code",
   "execution_count": 87,
   "metadata": {},
   "outputs": [
    {
     "data": {
      "text/plain": [
       "[Synset('arouse.v.07'), Synset('disappoint.v.01')]"
      ]
     },
     "execution_count": 87,
     "metadata": {},
     "output_type": "execute_result"
    }
   ],
   "source": [
    "wn.synset(\"tease.v.03\").entailments()"
   ]
  },
  {
   "cell_type": "markdown",
   "metadata": {},
   "source": [
    "## Antonymy between lemmas"
   ]
  },
  {
   "cell_type": "code",
   "execution_count": 93,
   "metadata": {},
   "outputs": [
    {
     "data": {
      "text/plain": [
       "[[Lemma('linger.v.04.linger')],\n",
       " [Lemma('vertical.a.01.vertical'), Lemma('inclined.a.02.inclined')],\n",
       " [Lemma('legato.r.01.legato')]]"
      ]
     },
     "execution_count": 93,
     "metadata": {},
     "output_type": "execute_result"
    }
   ],
   "source": [
    "[\n",
    "    wn.lemma(\"rush.v.01.rush\").antonyms(),\n",
    "    wn.lemma('horizontal.a.01.horizontal').antonyms(),\n",
    "    wn.lemma(\"staccato.r.01.staccato\").antonyms()\n",
    "]"
   ]
  },
  {
   "cell_type": "markdown",
   "metadata": {},
   "source": [
    "# 5.4 Semantic similarity "
   ]
  },
  {
   "cell_type": "code",
   "execution_count": 95,
   "metadata": {},
   "outputs": [],
   "source": [
    "right    = wn.synset(\"right_whale.n.01\")\n",
    "orca     = wn.synset(\"orca.n.01\")\n",
    "minke    = wn.synset(\"minke_whale.n.01\")\n",
    "tortoise = wn.synset(\"tortoise.n.01\")\n",
    "novel    = wn.synset(\"novel.n.01\")"
   ]
  },
  {
   "cell_type": "code",
   "execution_count": 109,
   "metadata": {},
   "outputs": [
    {
     "data": {
      "text/plain": [
       "[([Synset('baleen_whale.n.01')], 14, 0.25),\n",
       " ([Synset('whale.n.02')], 13, 0.16666666666666666),\n",
       " ([Synset('vertebrate.n.01')], 8, 0.07692307692307693),\n",
       " ([Synset('entity.n.01')], 0, 0.043478260869565216)]"
      ]
     },
     "execution_count": 109,
     "metadata": {},
     "output_type": "execute_result"
    }
   ],
   "source": [
    "right_hypernyms = [\n",
    "    right.lowest_common_hypernyms(minke),\n",
    "    right.lowest_common_hypernyms(orca),\n",
    "    right.lowest_common_hypernyms(tortoise),\n",
    "    right.lowest_common_hypernyms(novel)\n",
    "]\n",
    "\n",
    "list(map(\n",
    "    \n",
    "    lambda s: \n",
    "        (right.lowest_common_hypernyms(s),\n",
    "         right.lowest_common_hypernyms(s)[0].min_depth(),\n",
    "         right.path_similarity(s)),\n",
    "    \n",
    "    [minke, orca, tortoise, novel]\n",
    "    \n",
    "))"
   ]
  }
 ],
 "metadata": {
  "kernelspec": {
   "display_name": "Python 3",
   "language": "python",
   "name": "python3"
  },
  "language_info": {
   "codemirror_mode": {
    "name": "ipython",
    "version": 3
   },
   "file_extension": ".py",
   "mimetype": "text/x-python",
   "name": "python",
   "nbconvert_exporter": "python",
   "pygments_lexer": "ipython3",
   "version": "3.8.2"
  }
 },
 "nbformat": 4,
 "nbformat_minor": 4
}
